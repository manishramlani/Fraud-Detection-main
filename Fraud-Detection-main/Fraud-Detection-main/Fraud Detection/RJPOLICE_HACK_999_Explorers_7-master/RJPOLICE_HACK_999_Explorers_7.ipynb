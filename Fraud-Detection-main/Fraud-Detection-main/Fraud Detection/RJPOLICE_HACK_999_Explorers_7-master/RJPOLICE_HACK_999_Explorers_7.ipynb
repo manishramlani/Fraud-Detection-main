{
  "cells": [
    {
      "cell_type": "markdown",
      "metadata": {
        "id": "view-in-github",
        "colab_type": "text"
      },
      "source": [
        "<a href=\"https://colab.research.google.com/github/Devtekwani09/RJPOLICE_HACK_999_Explorers_7/blob/master/RJPOLICE_HACK_999_Explorers_7.ipynb\" target=\"_parent\"><img src=\"https://colab.research.google.com/assets/colab-badge.svg\" alt=\"Open In Colab\"/></a>"
      ]
    },
    {
      "cell_type": "markdown",
      "metadata": {
        "id": "oyJdhwkfzbZJ"
      },
      "source": [
        "**Problem Statement**\n",
        "\n",
        "Financial threats are displaying a trend about the credit risk of commercial banks as the incredible improvement in the financial industry has arisen. In this way, one of the biggest threats faces by commercial banks is the risk prediction of credit clients. The goal is to predict the probability of credit default based on credit card owner's characteristics and payment and ransaction history."
      ]
    },
    {
      "cell_type": "markdown",
      "metadata": {
        "id": "xA1uyeDTzbZw"
      },
      "source": [
        "**Approach**\n",
        "\n",
        "Tasks:- Supervised Learning tasks (Classification Problem)\n",
        "\n",
        "Environment and Tools.\n",
        "\n",
        "1. Tensorflow and Keras API.\n",
        "2. Sklearn.\n",
        "3. Matplotlib and Seaborn.\n",
        "4. PyGad"
      ]
    },
    {
      "cell_type": "markdown",
      "metadata": {
        "id": "RGrglRE8zbZ0"
      },
      "source": [
        "**Table of Content**\n",
        "1. Importing Dependencies.\n",
        "2. Data Understanding.\n",
        "3. Exploratory Data Analysis.\n",
        "4. Feature Engineering.\n",
        "5. Model Building.\n",
        "6. Model Evaluation and Interpretation"
      ]
    },
    {
      "cell_type": "code",
      "execution_count": 2,
      "metadata": {
        "colab": {
          "base_uri": "https://localhost:8080/"
        },
        "id": "eI2cunSNCZ9D",
        "outputId": "00d27d41-7baa-46b6-c490-458e32d7563f"
      },
      "outputs": [
        {
          "output_type": "stream",
          "name": "stdout",
          "text": [
            "Collecting pygad\n",
            "  Downloading pygad-3.2.0-py3-none-any.whl (80 kB)\n",
            "\u001b[2K     \u001b[90m━━━━━━━━━━━━━━━━━━━━━━━━━━━━━━━━━━━━━━━━\u001b[0m \u001b[32m80.8/80.8 kB\u001b[0m \u001b[31m780.0 kB/s\u001b[0m eta \u001b[36m0:00:00\u001b[0m\n",
            "\u001b[?25hCollecting imblearn\n",
            "  Downloading imblearn-0.0-py2.py3-none-any.whl (1.9 kB)\n",
            "Collecting feature_engine\n",
            "  Downloading feature_engine-1.6.2-py2.py3-none-any.whl (328 kB)\n",
            "\u001b[2K     \u001b[90m━━━━━━━━━━━━━━━━━━━━━━━━━━━━━━━━━━━━━━━━\u001b[0m \u001b[32m328.9/328.9 kB\u001b[0m \u001b[31m8.2 MB/s\u001b[0m eta \u001b[36m0:00:00\u001b[0m\n",
            "\u001b[?25hRequirement already satisfied: seaborn in /usr/local/lib/python3.10/dist-packages (0.12.2)\n",
            "Requirement already satisfied: cloudpickle in /usr/local/lib/python3.10/dist-packages (from pygad) (2.2.1)\n",
            "Requirement already satisfied: matplotlib in /usr/local/lib/python3.10/dist-packages (from pygad) (3.7.1)\n",
            "Requirement already satisfied: numpy in /usr/local/lib/python3.10/dist-packages (from pygad) (1.23.5)\n",
            "Requirement already satisfied: imbalanced-learn in /usr/local/lib/python3.10/dist-packages (from imblearn) (0.10.1)\n",
            "Requirement already satisfied: pandas>=1.0.3 in /usr/local/lib/python3.10/dist-packages (from feature_engine) (1.5.3)\n",
            "Requirement already satisfied: scikit-learn>=1.0.0 in /usr/local/lib/python3.10/dist-packages (from feature_engine) (1.2.2)\n",
            "Requirement already satisfied: scipy>=1.4.1 in /usr/local/lib/python3.10/dist-packages (from feature_engine) (1.11.4)\n",
            "Requirement already satisfied: statsmodels>=0.11.1 in /usr/local/lib/python3.10/dist-packages (from feature_engine) (0.14.1)\n",
            "Requirement already satisfied: contourpy>=1.0.1 in /usr/local/lib/python3.10/dist-packages (from matplotlib->pygad) (1.2.0)\n",
            "Requirement already satisfied: cycler>=0.10 in /usr/local/lib/python3.10/dist-packages (from matplotlib->pygad) (0.12.1)\n",
            "Requirement already satisfied: fonttools>=4.22.0 in /usr/local/lib/python3.10/dist-packages (from matplotlib->pygad) (4.46.0)\n",
            "Requirement already satisfied: kiwisolver>=1.0.1 in /usr/local/lib/python3.10/dist-packages (from matplotlib->pygad) (1.4.5)\n",
            "Requirement already satisfied: packaging>=20.0 in /usr/local/lib/python3.10/dist-packages (from matplotlib->pygad) (23.2)\n",
            "Requirement already satisfied: pillow>=6.2.0 in /usr/local/lib/python3.10/dist-packages (from matplotlib->pygad) (9.4.0)\n",
            "Requirement already satisfied: pyparsing>=2.3.1 in /usr/local/lib/python3.10/dist-packages (from matplotlib->pygad) (3.1.1)\n",
            "Requirement already satisfied: python-dateutil>=2.7 in /usr/local/lib/python3.10/dist-packages (from matplotlib->pygad) (2.8.2)\n",
            "Requirement already satisfied: pytz>=2020.1 in /usr/local/lib/python3.10/dist-packages (from pandas>=1.0.3->feature_engine) (2023.3.post1)\n",
            "Requirement already satisfied: joblib>=1.1.1 in /usr/local/lib/python3.10/dist-packages (from scikit-learn>=1.0.0->feature_engine) (1.3.2)\n",
            "Requirement already satisfied: threadpoolctl>=2.0.0 in /usr/local/lib/python3.10/dist-packages (from scikit-learn>=1.0.0->feature_engine) (3.2.0)\n",
            "Requirement already satisfied: patsy>=0.5.4 in /usr/local/lib/python3.10/dist-packages (from statsmodels>=0.11.1->feature_engine) (0.5.4)\n",
            "Requirement already satisfied: six in /usr/local/lib/python3.10/dist-packages (from patsy>=0.5.4->statsmodels>=0.11.1->feature_engine) (1.16.0)\n",
            "Installing collected packages: pygad, imblearn, feature_engine\n",
            "Successfully installed feature_engine-1.6.2 imblearn-0.0 pygad-3.2.0\n"
          ]
        }
      ],
      "source": [
        "!pip install pygad imblearn feature_engine seaborn"
      ]
    },
    {
      "cell_type": "markdown",
      "metadata": {
        "id": "lQqAdtVFzbZ3"
      },
      "source": [
        "# **Importing Dependencies/Libraries**"
      ]
    },
    {
      "cell_type": "code",
      "execution_count": 3,
      "metadata": {
        "id": "s7ohLl0bzbZ6"
      },
      "outputs": [],
      "source": [
        "# data manipulation and utility libraries\n",
        "import pandas as pd\n",
        "import numpy as np\n",
        "from collections import Counter\n",
        "from scipy.stats import shapiro\n",
        "\n",
        "# data visualizition libraries\n",
        "import seaborn as sns\n",
        "from matplotlib import pyplot as plt\n",
        "\n",
        "# sklearn for building precosseing and building ML algorithm.\n",
        "from sklearn.model_selection import train_test_split\n",
        "from sklearn.feature_selection import mutual_info_classif\n",
        "from sklearn.preprocessing import MinMaxScaler\n",
        "from sklearn.metrics import (accuracy_score, roc_auc_score, f1_score, confusion_matrix,\n",
        "                             classification_report, precision_score, recall_score, roc_curve)\n",
        "\n",
        "# importing pygad functions for building geneticsalgorithm.\n",
        "from pygad import GA\n",
        "from pygad import gann, nn\n",
        "from pygad.kerasga import KerasGA, model_weights_as_vector, model_weights_as_matrix, predict\n",
        "\n",
        "# importing the Winsorizer Class from feature engine for handling outlier.\n",
        "from feature_engine.outliers import Winsorizer\n",
        "\n",
        "# importing smote and smoteenn for handling imbalance.\n",
        "from imblearn.combine import SMOTEENN\n",
        "from imblearn.over_sampling import ADASYN\n",
        "\n",
        "# importing tensorflow library for building artificial neural network.\n",
        "from tensorflow.keras.layers import Dense, Dropout\n",
        "from tensorflow.keras.models import Sequential, load_model, save_model, Model\n",
        "from tensorflow.keras.losses import BinaryCrossentropy\n",
        "from tensorflow.keras.metrics import BinaryAccuracy\n",
        "from tensorflow.keras.optimizers import Adam\n",
        "from tensorflow.keras.callbacks import EarlyStopping\n",
        "\n",
        "import warnings\n",
        "warnings.filterwarnings(\"ignore\")"
      ]
    },
    {
      "cell_type": "code",
      "execution_count": 4,
      "metadata": {
        "colab": {
          "base_uri": "https://localhost:8080/"
        },
        "id": "vKKk8ffXyjMS",
        "outputId": "e8e0fa4d-906e-42b9-f711-61fcde56bed9"
      },
      "outputs": [
        {
          "output_type": "stream",
          "name": "stdout",
          "text": [
            "Num GPUs Available:  0\n"
          ]
        }
      ],
      "source": [
        "import tensorflow as tf\n",
        "print(\"Num GPUs Available: \", len(tf.config.list_physical_devices('GPU')))"
      ]
    },
    {
      "cell_type": "code",
      "execution_count": 5,
      "metadata": {
        "colab": {
          "base_uri": "https://localhost:8080/"
        },
        "id": "7zHnlt7oyjMW",
        "outputId": "a3fa51f5-0755-4bbe-c10c-acba3db89f36"
      },
      "outputs": [
        {
          "output_type": "execute_result",
          "data": {
            "text/plain": [
              "[]"
            ]
          },
          "metadata": {},
          "execution_count": 5
        }
      ],
      "source": [
        "tf.config.list_physical_devices('GPU')"
      ]
    },
    {
      "cell_type": "markdown",
      "metadata": {
        "id": "Rk09Hwy1zbaA"
      },
      "source": [
        "# **Exploratory Data Analysis**\n",
        "\n",
        "The process of analyzing data is to understand the data and gain useful information so that the derived knowledge can help in decision making."
      ]
    },
    {
      "cell_type": "code",
      "execution_count": 6,
      "metadata": {
        "id": "9O5gkt0p1E-L",
        "colab": {
          "base_uri": "https://localhost:8080/"
        },
        "outputId": "d93a6a47-9df5-497c-d23f-2872eb1c0fc8"
      },
      "outputs": [
        {
          "output_type": "stream",
          "name": "stdout",
          "text": [
            "Drive already mounted at /content/drive; to attempt to forcibly remount, call drive.mount(\"/content/drive\", force_remount=True).\n"
          ]
        }
      ],
      "source": [
        "from google.colab import drive\n",
        "drive.mount('/content/drive')"
      ]
    },
    {
      "cell_type": "code",
      "execution_count": 7,
      "metadata": {
        "id": "SLCQG4AFzbaC"
      },
      "outputs": [],
      "source": [
        "# loading dataset\n",
        "df = pd.read_csv('/content/drive/MyDrive/datasets/Final_Transactions.csv')"
      ]
    },
    {
      "cell_type": "code",
      "execution_count": 8,
      "metadata": {
        "id": "KIcXgcO1e7L8",
        "colab": {
          "base_uri": "https://localhost:8080/",
          "height": 310
        },
        "outputId": "f1224979-fcca-4078-e849-9b6e51bdfbc3"
      },
      "outputs": [
        {
          "output_type": "execute_result",
          "data": {
            "text/plain": [
              "   Unnamed: 0  TRANSACTION_ID          TX_DATETIME  CUSTOMER_ID  TERMINAL_ID  \\\n",
              "0           0               0  2023-01-01 00:00:31          596         3156   \n",
              "1           1               1  2023-01-01 00:02:10         4961         3412   \n",
              "2           2               2  2023-01-01 00:07:56            2         1365   \n",
              "3           3               3  2023-01-01 00:09:29         4128         8737   \n",
              "4           4               4  2023-01-01 00:10:34          927         9906   \n",
              "\n",
              "   TX_AMOUNT  TX_TIME_SECONDS  TX_TIME_DAYS  TX_FRAUD  TX_FRAUD_SCENARIO  \n",
              "0     533.07               31             0         0                  0  \n",
              "1     808.56              130             0         0                  0  \n",
              "2    1442.94              476             0         1                  1  \n",
              "3     620.65              569             0         0                  0  \n",
              "4     490.66              634             0         0                  0  "
            ],
            "text/html": [
              "\n",
              "  <div id=\"df-35a31fa9-17b9-4432-a595-fb2a9be78a1a\" class=\"colab-df-container\">\n",
              "    <div>\n",
              "<style scoped>\n",
              "    .dataframe tbody tr th:only-of-type {\n",
              "        vertical-align: middle;\n",
              "    }\n",
              "\n",
              "    .dataframe tbody tr th {\n",
              "        vertical-align: top;\n",
              "    }\n",
              "\n",
              "    .dataframe thead th {\n",
              "        text-align: right;\n",
              "    }\n",
              "</style>\n",
              "<table border=\"1\" class=\"dataframe\">\n",
              "  <thead>\n",
              "    <tr style=\"text-align: right;\">\n",
              "      <th></th>\n",
              "      <th>Unnamed: 0</th>\n",
              "      <th>TRANSACTION_ID</th>\n",
              "      <th>TX_DATETIME</th>\n",
              "      <th>CUSTOMER_ID</th>\n",
              "      <th>TERMINAL_ID</th>\n",
              "      <th>TX_AMOUNT</th>\n",
              "      <th>TX_TIME_SECONDS</th>\n",
              "      <th>TX_TIME_DAYS</th>\n",
              "      <th>TX_FRAUD</th>\n",
              "      <th>TX_FRAUD_SCENARIO</th>\n",
              "    </tr>\n",
              "  </thead>\n",
              "  <tbody>\n",
              "    <tr>\n",
              "      <th>0</th>\n",
              "      <td>0</td>\n",
              "      <td>0</td>\n",
              "      <td>2023-01-01 00:00:31</td>\n",
              "      <td>596</td>\n",
              "      <td>3156</td>\n",
              "      <td>533.07</td>\n",
              "      <td>31</td>\n",
              "      <td>0</td>\n",
              "      <td>0</td>\n",
              "      <td>0</td>\n",
              "    </tr>\n",
              "    <tr>\n",
              "      <th>1</th>\n",
              "      <td>1</td>\n",
              "      <td>1</td>\n",
              "      <td>2023-01-01 00:02:10</td>\n",
              "      <td>4961</td>\n",
              "      <td>3412</td>\n",
              "      <td>808.56</td>\n",
              "      <td>130</td>\n",
              "      <td>0</td>\n",
              "      <td>0</td>\n",
              "      <td>0</td>\n",
              "    </tr>\n",
              "    <tr>\n",
              "      <th>2</th>\n",
              "      <td>2</td>\n",
              "      <td>2</td>\n",
              "      <td>2023-01-01 00:07:56</td>\n",
              "      <td>2</td>\n",
              "      <td>1365</td>\n",
              "      <td>1442.94</td>\n",
              "      <td>476</td>\n",
              "      <td>0</td>\n",
              "      <td>1</td>\n",
              "      <td>1</td>\n",
              "    </tr>\n",
              "    <tr>\n",
              "      <th>3</th>\n",
              "      <td>3</td>\n",
              "      <td>3</td>\n",
              "      <td>2023-01-01 00:09:29</td>\n",
              "      <td>4128</td>\n",
              "      <td>8737</td>\n",
              "      <td>620.65</td>\n",
              "      <td>569</td>\n",
              "      <td>0</td>\n",
              "      <td>0</td>\n",
              "      <td>0</td>\n",
              "    </tr>\n",
              "    <tr>\n",
              "      <th>4</th>\n",
              "      <td>4</td>\n",
              "      <td>4</td>\n",
              "      <td>2023-01-01 00:10:34</td>\n",
              "      <td>927</td>\n",
              "      <td>9906</td>\n",
              "      <td>490.66</td>\n",
              "      <td>634</td>\n",
              "      <td>0</td>\n",
              "      <td>0</td>\n",
              "      <td>0</td>\n",
              "    </tr>\n",
              "  </tbody>\n",
              "</table>\n",
              "</div>\n",
              "    <div class=\"colab-df-buttons\">\n",
              "\n",
              "  <div class=\"colab-df-container\">\n",
              "    <button class=\"colab-df-convert\" onclick=\"convertToInteractive('df-35a31fa9-17b9-4432-a595-fb2a9be78a1a')\"\n",
              "            title=\"Convert this dataframe to an interactive table.\"\n",
              "            style=\"display:none;\">\n",
              "\n",
              "  <svg xmlns=\"http://www.w3.org/2000/svg\" height=\"24px\" viewBox=\"0 -960 960 960\">\n",
              "    <path d=\"M120-120v-720h720v720H120Zm60-500h600v-160H180v160Zm220 220h160v-160H400v160Zm0 220h160v-160H400v160ZM180-400h160v-160H180v160Zm440 0h160v-160H620v160ZM180-180h160v-160H180v160Zm440 0h160v-160H620v160Z\"/>\n",
              "  </svg>\n",
              "    </button>\n",
              "\n",
              "  <style>\n",
              "    .colab-df-container {\n",
              "      display:flex;\n",
              "      gap: 12px;\n",
              "    }\n",
              "\n",
              "    .colab-df-convert {\n",
              "      background-color: #E8F0FE;\n",
              "      border: none;\n",
              "      border-radius: 50%;\n",
              "      cursor: pointer;\n",
              "      display: none;\n",
              "      fill: #1967D2;\n",
              "      height: 32px;\n",
              "      padding: 0 0 0 0;\n",
              "      width: 32px;\n",
              "    }\n",
              "\n",
              "    .colab-df-convert:hover {\n",
              "      background-color: #E2EBFA;\n",
              "      box-shadow: 0px 1px 2px rgba(60, 64, 67, 0.3), 0px 1px 3px 1px rgba(60, 64, 67, 0.15);\n",
              "      fill: #174EA6;\n",
              "    }\n",
              "\n",
              "    .colab-df-buttons div {\n",
              "      margin-bottom: 4px;\n",
              "    }\n",
              "\n",
              "    [theme=dark] .colab-df-convert {\n",
              "      background-color: #3B4455;\n",
              "      fill: #D2E3FC;\n",
              "    }\n",
              "\n",
              "    [theme=dark] .colab-df-convert:hover {\n",
              "      background-color: #434B5C;\n",
              "      box-shadow: 0px 1px 3px 1px rgba(0, 0, 0, 0.15);\n",
              "      filter: drop-shadow(0px 1px 2px rgba(0, 0, 0, 0.3));\n",
              "      fill: #FFFFFF;\n",
              "    }\n",
              "  </style>\n",
              "\n",
              "    <script>\n",
              "      const buttonEl =\n",
              "        document.querySelector('#df-35a31fa9-17b9-4432-a595-fb2a9be78a1a button.colab-df-convert');\n",
              "      buttonEl.style.display =\n",
              "        google.colab.kernel.accessAllowed ? 'block' : 'none';\n",
              "\n",
              "      async function convertToInteractive(key) {\n",
              "        const element = document.querySelector('#df-35a31fa9-17b9-4432-a595-fb2a9be78a1a');\n",
              "        const dataTable =\n",
              "          await google.colab.kernel.invokeFunction('convertToInteractive',\n",
              "                                                    [key], {});\n",
              "        if (!dataTable) return;\n",
              "\n",
              "        const docLinkHtml = 'Like what you see? Visit the ' +\n",
              "          '<a target=\"_blank\" href=https://colab.research.google.com/notebooks/data_table.ipynb>data table notebook</a>'\n",
              "          + ' to learn more about interactive tables.';\n",
              "        element.innerHTML = '';\n",
              "        dataTable['output_type'] = 'display_data';\n",
              "        await google.colab.output.renderOutput(dataTable, element);\n",
              "        const docLink = document.createElement('div');\n",
              "        docLink.innerHTML = docLinkHtml;\n",
              "        element.appendChild(docLink);\n",
              "      }\n",
              "    </script>\n",
              "  </div>\n",
              "\n",
              "\n",
              "<div id=\"df-bc73910a-940f-4ad8-b2c6-cbd0e900c63f\">\n",
              "  <button class=\"colab-df-quickchart\" onclick=\"quickchart('df-bc73910a-940f-4ad8-b2c6-cbd0e900c63f')\"\n",
              "            title=\"Suggest charts\"\n",
              "            style=\"display:none;\">\n",
              "\n",
              "<svg xmlns=\"http://www.w3.org/2000/svg\" height=\"24px\"viewBox=\"0 0 24 24\"\n",
              "     width=\"24px\">\n",
              "    <g>\n",
              "        <path d=\"M19 3H5c-1.1 0-2 .9-2 2v14c0 1.1.9 2 2 2h14c1.1 0 2-.9 2-2V5c0-1.1-.9-2-2-2zM9 17H7v-7h2v7zm4 0h-2V7h2v10zm4 0h-2v-4h2v4z\"/>\n",
              "    </g>\n",
              "</svg>\n",
              "  </button>\n",
              "\n",
              "<style>\n",
              "  .colab-df-quickchart {\n",
              "      --bg-color: #E8F0FE;\n",
              "      --fill-color: #1967D2;\n",
              "      --hover-bg-color: #E2EBFA;\n",
              "      --hover-fill-color: #174EA6;\n",
              "      --disabled-fill-color: #AAA;\n",
              "      --disabled-bg-color: #DDD;\n",
              "  }\n",
              "\n",
              "  [theme=dark] .colab-df-quickchart {\n",
              "      --bg-color: #3B4455;\n",
              "      --fill-color: #D2E3FC;\n",
              "      --hover-bg-color: #434B5C;\n",
              "      --hover-fill-color: #FFFFFF;\n",
              "      --disabled-bg-color: #3B4455;\n",
              "      --disabled-fill-color: #666;\n",
              "  }\n",
              "\n",
              "  .colab-df-quickchart {\n",
              "    background-color: var(--bg-color);\n",
              "    border: none;\n",
              "    border-radius: 50%;\n",
              "    cursor: pointer;\n",
              "    display: none;\n",
              "    fill: var(--fill-color);\n",
              "    height: 32px;\n",
              "    padding: 0;\n",
              "    width: 32px;\n",
              "  }\n",
              "\n",
              "  .colab-df-quickchart:hover {\n",
              "    background-color: var(--hover-bg-color);\n",
              "    box-shadow: 0 1px 2px rgba(60, 64, 67, 0.3), 0 1px 3px 1px rgba(60, 64, 67, 0.15);\n",
              "    fill: var(--button-hover-fill-color);\n",
              "  }\n",
              "\n",
              "  .colab-df-quickchart-complete:disabled,\n",
              "  .colab-df-quickchart-complete:disabled:hover {\n",
              "    background-color: var(--disabled-bg-color);\n",
              "    fill: var(--disabled-fill-color);\n",
              "    box-shadow: none;\n",
              "  }\n",
              "\n",
              "  .colab-df-spinner {\n",
              "    border: 2px solid var(--fill-color);\n",
              "    border-color: transparent;\n",
              "    border-bottom-color: var(--fill-color);\n",
              "    animation:\n",
              "      spin 1s steps(1) infinite;\n",
              "  }\n",
              "\n",
              "  @keyframes spin {\n",
              "    0% {\n",
              "      border-color: transparent;\n",
              "      border-bottom-color: var(--fill-color);\n",
              "      border-left-color: var(--fill-color);\n",
              "    }\n",
              "    20% {\n",
              "      border-color: transparent;\n",
              "      border-left-color: var(--fill-color);\n",
              "      border-top-color: var(--fill-color);\n",
              "    }\n",
              "    30% {\n",
              "      border-color: transparent;\n",
              "      border-left-color: var(--fill-color);\n",
              "      border-top-color: var(--fill-color);\n",
              "      border-right-color: var(--fill-color);\n",
              "    }\n",
              "    40% {\n",
              "      border-color: transparent;\n",
              "      border-right-color: var(--fill-color);\n",
              "      border-top-color: var(--fill-color);\n",
              "    }\n",
              "    60% {\n",
              "      border-color: transparent;\n",
              "      border-right-color: var(--fill-color);\n",
              "    }\n",
              "    80% {\n",
              "      border-color: transparent;\n",
              "      border-right-color: var(--fill-color);\n",
              "      border-bottom-color: var(--fill-color);\n",
              "    }\n",
              "    90% {\n",
              "      border-color: transparent;\n",
              "      border-bottom-color: var(--fill-color);\n",
              "    }\n",
              "  }\n",
              "</style>\n",
              "\n",
              "  <script>\n",
              "    async function quickchart(key) {\n",
              "      const quickchartButtonEl =\n",
              "        document.querySelector('#' + key + ' button');\n",
              "      quickchartButtonEl.disabled = true;  // To prevent multiple clicks.\n",
              "      quickchartButtonEl.classList.add('colab-df-spinner');\n",
              "      try {\n",
              "        const charts = await google.colab.kernel.invokeFunction(\n",
              "            'suggestCharts', [key], {});\n",
              "      } catch (error) {\n",
              "        console.error('Error during call to suggestCharts:', error);\n",
              "      }\n",
              "      quickchartButtonEl.classList.remove('colab-df-spinner');\n",
              "      quickchartButtonEl.classList.add('colab-df-quickchart-complete');\n",
              "    }\n",
              "    (() => {\n",
              "      let quickchartButtonEl =\n",
              "        document.querySelector('#df-bc73910a-940f-4ad8-b2c6-cbd0e900c63f button');\n",
              "      quickchartButtonEl.style.display =\n",
              "        google.colab.kernel.accessAllowed ? 'block' : 'none';\n",
              "    })();\n",
              "  </script>\n",
              "</div>\n",
              "\n",
              "    </div>\n",
              "  </div>\n"
            ]
          },
          "metadata": {},
          "execution_count": 8
        }
      ],
      "source": [
        "df.head()"
      ]
    },
    {
      "cell_type": "code",
      "execution_count": 9,
      "metadata": {
        "id": "ICfm8NEszbaK",
        "colab": {
          "base_uri": "https://localhost:8080/"
        },
        "outputId": "78384e7e-ed62-40f4-eae0-4b175383c30c"
      },
      "outputs": [
        {
          "output_type": "execute_result",
          "data": {
            "text/plain": [
              "(1754155, 10)"
            ]
          },
          "metadata": {},
          "execution_count": 9
        }
      ],
      "source": [
        "# return a tuple representing the dimensionality of the datasets\n",
        "df.shape"
      ]
    },
    {
      "cell_type": "code",
      "execution_count": 10,
      "metadata": {
        "id": "UEo78zhwyjMu"
      },
      "outputs": [],
      "source": [
        "df[\"TX_DATETIME\"] = pd.DatetimeIndex(df[\"TX_DATETIME\"]).year"
      ]
    },
    {
      "cell_type": "code",
      "execution_count": 11,
      "metadata": {
        "id": "VHr8n_3eyjMv"
      },
      "outputs": [],
      "source": [
        "# dropping Unnamed column\n",
        "df = df.drop(['Unnamed: 0', 'TX_DATETIME', 'TX_FRAUD_SCENARIO', 'TRANSACTION_ID'], axis = 'columns')"
      ]
    },
    {
      "cell_type": "code",
      "execution_count": 12,
      "metadata": {
        "id": "tSpzz41MzbaN",
        "colab": {
          "base_uri": "https://localhost:8080/"
        },
        "outputId": "337dbfed-6fa6-4c73-a0c8-e2f5ffe6d333"
      },
      "outputs": [
        {
          "output_type": "execute_result",
          "data": {
            "text/plain": [
              "CUSTOMER_ID           4990\n",
              "TERMINAL_ID          10000\n",
              "TX_AMOUNT           177586\n",
              "TX_TIME_SECONDS    1635076\n",
              "TX_TIME_DAYS           183\n",
              "TX_FRAUD                 2\n",
              "dtype: int64"
            ]
          },
          "metadata": {},
          "execution_count": 12
        }
      ],
      "source": [
        "# Count number of distinct elements in specified axis\n",
        "df.nunique()"
      ]
    },
    {
      "cell_type": "code",
      "execution_count": 13,
      "metadata": {
        "id": "m5whCSW-zbaQ",
        "colab": {
          "base_uri": "https://localhost:8080/"
        },
        "outputId": "4a29099b-196b-4bf0-95cd-927d47508214"
      },
      "outputs": [
        {
          "output_type": "stream",
          "name": "stdout",
          "text": [
            "<class 'pandas.core.frame.DataFrame'>\n",
            "RangeIndex: 1754155 entries, 0 to 1754154\n",
            "Data columns (total 6 columns):\n",
            " #   Column           Dtype  \n",
            "---  ------           -----  \n",
            " 0   CUSTOMER_ID      int64  \n",
            " 1   TERMINAL_ID      int64  \n",
            " 2   TX_AMOUNT        float64\n",
            " 3   TX_TIME_SECONDS  int64  \n",
            " 4   TX_TIME_DAYS     int64  \n",
            " 5   TX_FRAUD         int64  \n",
            "dtypes: float64(1), int64(5)\n",
            "memory usage: 80.3 MB\n"
          ]
        }
      ],
      "source": [
        "# print a concise summary about the dataset\n",
        "df.info()"
      ]
    },
    {
      "cell_type": "code",
      "execution_count": 14,
      "metadata": {
        "id": "iPZRfu4hzbaS",
        "colab": {
          "base_uri": "https://localhost:8080/"
        },
        "outputId": "5e2231e5-4fcf-4200-9841-ddbd60fbb3b3"
      },
      "outputs": [
        {
          "output_type": "execute_result",
          "data": {
            "text/plain": [
              "0"
            ]
          },
          "metadata": {},
          "execution_count": 14
        }
      ],
      "source": [
        "# return the sum of Series denoting duplicate rows.\n",
        "df.duplicated().sum()"
      ]
    },
    {
      "cell_type": "code",
      "execution_count": 15,
      "metadata": {
        "id": "yVKjk9YszbaU",
        "colab": {
          "base_uri": "https://localhost:8080/"
        },
        "outputId": "7a280275-09a2-451c-b971-fe42ab01ce42"
      },
      "outputs": [
        {
          "output_type": "execute_result",
          "data": {
            "text/plain": [
              "0    1518186\n",
              "1     235969\n",
              "Name: TX_FRAUD, dtype: int64"
            ]
          },
          "metadata": {},
          "execution_count": 15
        }
      ],
      "source": [
        "# return a Series containing counts of default.\n",
        "df['TX_FRAUD'].value_counts()"
      ]
    },
    {
      "cell_type": "code",
      "execution_count": 16,
      "metadata": {
        "id": "s1L8OlEtyjM2"
      },
      "outputs": [],
      "source": [
        "# return a Series containing counts of default.\n",
        "#df['TX_FRAUD_SCENARIO'].value_counts()"
      ]
    },
    {
      "cell_type": "code",
      "execution_count": 17,
      "metadata": {
        "id": "iimrN9YnzbaX",
        "colab": {
          "base_uri": "https://localhost:8080/"
        },
        "outputId": "ffe5b639-e118-4c8d-dd0f-87e60e1155b3"
      },
      "outputs": [
        {
          "output_type": "execute_result",
          "data": {
            "text/plain": [
              "CUSTOMER_ID        0\n",
              "TERMINAL_ID        0\n",
              "TX_AMOUNT          0\n",
              "TX_TIME_SECONDS    0\n",
              "TX_TIME_DAYS       0\n",
              "TX_FRAUD           0\n",
              "dtype: int64"
            ]
          },
          "metadata": {},
          "execution_count": 17
        }
      ],
      "source": [
        "# return the total sum of missing values in present in the dataset\n",
        "df.isnull().sum()"
      ]
    },
    {
      "cell_type": "code",
      "execution_count": 18,
      "metadata": {
        "id": "tbWMwVzAzbaZ",
        "colab": {
          "base_uri": "https://localhost:8080/",
          "height": 300
        },
        "outputId": "e25f4867-6f88-49b2-fbcc-8e2f4e474ccc"
      },
      "outputs": [
        {
          "output_type": "execute_result",
          "data": {
            "text/plain": [
              "       CUSTOMER_ID  TERMINAL_ID    TX_AMOUNT  TX_TIME_SECONDS  TX_TIME_DAYS  \\\n",
              "count  1754155.000  1754155.000  1754155.000     1.754155e+06   1754155.000   \n",
              "mean      2504.011     4996.733      539.682     7.903234e+06        90.973   \n",
              "std       1445.987     2886.101     1179.711     4.565172e+06        52.837   \n",
              "min          0.000        0.000        0.000     3.100000e+01         0.000   \n",
              "25%       1252.000     2502.000      179.950     3.940846e+06        45.000   \n",
              "50%       2506.000     4994.000      421.750     7.902670e+06        91.000   \n",
              "75%       3765.000     7495.000      750.595     1.186566e+07       137.000   \n",
              "max       4999.000     9999.000   647837.500     1.581120e+07       182.000   \n",
              "\n",
              "          TX_FRAUD  \n",
              "count  1754155.000  \n",
              "mean         0.135  \n",
              "std          0.341  \n",
              "min          0.000  \n",
              "25%          0.000  \n",
              "50%          0.000  \n",
              "75%          0.000  \n",
              "max          1.000  "
            ],
            "text/html": [
              "\n",
              "  <div id=\"df-8d59854c-3e1b-4922-b3a4-5196619fedcc\" class=\"colab-df-container\">\n",
              "    <div>\n",
              "<style scoped>\n",
              "    .dataframe tbody tr th:only-of-type {\n",
              "        vertical-align: middle;\n",
              "    }\n",
              "\n",
              "    .dataframe tbody tr th {\n",
              "        vertical-align: top;\n",
              "    }\n",
              "\n",
              "    .dataframe thead th {\n",
              "        text-align: right;\n",
              "    }\n",
              "</style>\n",
              "<table border=\"1\" class=\"dataframe\">\n",
              "  <thead>\n",
              "    <tr style=\"text-align: right;\">\n",
              "      <th></th>\n",
              "      <th>CUSTOMER_ID</th>\n",
              "      <th>TERMINAL_ID</th>\n",
              "      <th>TX_AMOUNT</th>\n",
              "      <th>TX_TIME_SECONDS</th>\n",
              "      <th>TX_TIME_DAYS</th>\n",
              "      <th>TX_FRAUD</th>\n",
              "    </tr>\n",
              "  </thead>\n",
              "  <tbody>\n",
              "    <tr>\n",
              "      <th>count</th>\n",
              "      <td>1754155.000</td>\n",
              "      <td>1754155.000</td>\n",
              "      <td>1754155.000</td>\n",
              "      <td>1.754155e+06</td>\n",
              "      <td>1754155.000</td>\n",
              "      <td>1754155.000</td>\n",
              "    </tr>\n",
              "    <tr>\n",
              "      <th>mean</th>\n",
              "      <td>2504.011</td>\n",
              "      <td>4996.733</td>\n",
              "      <td>539.682</td>\n",
              "      <td>7.903234e+06</td>\n",
              "      <td>90.973</td>\n",
              "      <td>0.135</td>\n",
              "    </tr>\n",
              "    <tr>\n",
              "      <th>std</th>\n",
              "      <td>1445.987</td>\n",
              "      <td>2886.101</td>\n",
              "      <td>1179.711</td>\n",
              "      <td>4.565172e+06</td>\n",
              "      <td>52.837</td>\n",
              "      <td>0.341</td>\n",
              "    </tr>\n",
              "    <tr>\n",
              "      <th>min</th>\n",
              "      <td>0.000</td>\n",
              "      <td>0.000</td>\n",
              "      <td>0.000</td>\n",
              "      <td>3.100000e+01</td>\n",
              "      <td>0.000</td>\n",
              "      <td>0.000</td>\n",
              "    </tr>\n",
              "    <tr>\n",
              "      <th>25%</th>\n",
              "      <td>1252.000</td>\n",
              "      <td>2502.000</td>\n",
              "      <td>179.950</td>\n",
              "      <td>3.940846e+06</td>\n",
              "      <td>45.000</td>\n",
              "      <td>0.000</td>\n",
              "    </tr>\n",
              "    <tr>\n",
              "      <th>50%</th>\n",
              "      <td>2506.000</td>\n",
              "      <td>4994.000</td>\n",
              "      <td>421.750</td>\n",
              "      <td>7.902670e+06</td>\n",
              "      <td>91.000</td>\n",
              "      <td>0.000</td>\n",
              "    </tr>\n",
              "    <tr>\n",
              "      <th>75%</th>\n",
              "      <td>3765.000</td>\n",
              "      <td>7495.000</td>\n",
              "      <td>750.595</td>\n",
              "      <td>1.186566e+07</td>\n",
              "      <td>137.000</td>\n",
              "      <td>0.000</td>\n",
              "    </tr>\n",
              "    <tr>\n",
              "      <th>max</th>\n",
              "      <td>4999.000</td>\n",
              "      <td>9999.000</td>\n",
              "      <td>647837.500</td>\n",
              "      <td>1.581120e+07</td>\n",
              "      <td>182.000</td>\n",
              "      <td>1.000</td>\n",
              "    </tr>\n",
              "  </tbody>\n",
              "</table>\n",
              "</div>\n",
              "    <div class=\"colab-df-buttons\">\n",
              "\n",
              "  <div class=\"colab-df-container\">\n",
              "    <button class=\"colab-df-convert\" onclick=\"convertToInteractive('df-8d59854c-3e1b-4922-b3a4-5196619fedcc')\"\n",
              "            title=\"Convert this dataframe to an interactive table.\"\n",
              "            style=\"display:none;\">\n",
              "\n",
              "  <svg xmlns=\"http://www.w3.org/2000/svg\" height=\"24px\" viewBox=\"0 -960 960 960\">\n",
              "    <path d=\"M120-120v-720h720v720H120Zm60-500h600v-160H180v160Zm220 220h160v-160H400v160Zm0 220h160v-160H400v160ZM180-400h160v-160H180v160Zm440 0h160v-160H620v160ZM180-180h160v-160H180v160Zm440 0h160v-160H620v160Z\"/>\n",
              "  </svg>\n",
              "    </button>\n",
              "\n",
              "  <style>\n",
              "    .colab-df-container {\n",
              "      display:flex;\n",
              "      gap: 12px;\n",
              "    }\n",
              "\n",
              "    .colab-df-convert {\n",
              "      background-color: #E8F0FE;\n",
              "      border: none;\n",
              "      border-radius: 50%;\n",
              "      cursor: pointer;\n",
              "      display: none;\n",
              "      fill: #1967D2;\n",
              "      height: 32px;\n",
              "      padding: 0 0 0 0;\n",
              "      width: 32px;\n",
              "    }\n",
              "\n",
              "    .colab-df-convert:hover {\n",
              "      background-color: #E2EBFA;\n",
              "      box-shadow: 0px 1px 2px rgba(60, 64, 67, 0.3), 0px 1px 3px 1px rgba(60, 64, 67, 0.15);\n",
              "      fill: #174EA6;\n",
              "    }\n",
              "\n",
              "    .colab-df-buttons div {\n",
              "      margin-bottom: 4px;\n",
              "    }\n",
              "\n",
              "    [theme=dark] .colab-df-convert {\n",
              "      background-color: #3B4455;\n",
              "      fill: #D2E3FC;\n",
              "    }\n",
              "\n",
              "    [theme=dark] .colab-df-convert:hover {\n",
              "      background-color: #434B5C;\n",
              "      box-shadow: 0px 1px 3px 1px rgba(0, 0, 0, 0.15);\n",
              "      filter: drop-shadow(0px 1px 2px rgba(0, 0, 0, 0.3));\n",
              "      fill: #FFFFFF;\n",
              "    }\n",
              "  </style>\n",
              "\n",
              "    <script>\n",
              "      const buttonEl =\n",
              "        document.querySelector('#df-8d59854c-3e1b-4922-b3a4-5196619fedcc button.colab-df-convert');\n",
              "      buttonEl.style.display =\n",
              "        google.colab.kernel.accessAllowed ? 'block' : 'none';\n",
              "\n",
              "      async function convertToInteractive(key) {\n",
              "        const element = document.querySelector('#df-8d59854c-3e1b-4922-b3a4-5196619fedcc');\n",
              "        const dataTable =\n",
              "          await google.colab.kernel.invokeFunction('convertToInteractive',\n",
              "                                                    [key], {});\n",
              "        if (!dataTable) return;\n",
              "\n",
              "        const docLinkHtml = 'Like what you see? Visit the ' +\n",
              "          '<a target=\"_blank\" href=https://colab.research.google.com/notebooks/data_table.ipynb>data table notebook</a>'\n",
              "          + ' to learn more about interactive tables.';\n",
              "        element.innerHTML = '';\n",
              "        dataTable['output_type'] = 'display_data';\n",
              "        await google.colab.output.renderOutput(dataTable, element);\n",
              "        const docLink = document.createElement('div');\n",
              "        docLink.innerHTML = docLinkHtml;\n",
              "        element.appendChild(docLink);\n",
              "      }\n",
              "    </script>\n",
              "  </div>\n",
              "\n",
              "\n",
              "<div id=\"df-ba283059-8bd6-48c9-ba1f-df34f8d4550a\">\n",
              "  <button class=\"colab-df-quickchart\" onclick=\"quickchart('df-ba283059-8bd6-48c9-ba1f-df34f8d4550a')\"\n",
              "            title=\"Suggest charts\"\n",
              "            style=\"display:none;\">\n",
              "\n",
              "<svg xmlns=\"http://www.w3.org/2000/svg\" height=\"24px\"viewBox=\"0 0 24 24\"\n",
              "     width=\"24px\">\n",
              "    <g>\n",
              "        <path d=\"M19 3H5c-1.1 0-2 .9-2 2v14c0 1.1.9 2 2 2h14c1.1 0 2-.9 2-2V5c0-1.1-.9-2-2-2zM9 17H7v-7h2v7zm4 0h-2V7h2v10zm4 0h-2v-4h2v4z\"/>\n",
              "    </g>\n",
              "</svg>\n",
              "  </button>\n",
              "\n",
              "<style>\n",
              "  .colab-df-quickchart {\n",
              "      --bg-color: #E8F0FE;\n",
              "      --fill-color: #1967D2;\n",
              "      --hover-bg-color: #E2EBFA;\n",
              "      --hover-fill-color: #174EA6;\n",
              "      --disabled-fill-color: #AAA;\n",
              "      --disabled-bg-color: #DDD;\n",
              "  }\n",
              "\n",
              "  [theme=dark] .colab-df-quickchart {\n",
              "      --bg-color: #3B4455;\n",
              "      --fill-color: #D2E3FC;\n",
              "      --hover-bg-color: #434B5C;\n",
              "      --hover-fill-color: #FFFFFF;\n",
              "      --disabled-bg-color: #3B4455;\n",
              "      --disabled-fill-color: #666;\n",
              "  }\n",
              "\n",
              "  .colab-df-quickchart {\n",
              "    background-color: var(--bg-color);\n",
              "    border: none;\n",
              "    border-radius: 50%;\n",
              "    cursor: pointer;\n",
              "    display: none;\n",
              "    fill: var(--fill-color);\n",
              "    height: 32px;\n",
              "    padding: 0;\n",
              "    width: 32px;\n",
              "  }\n",
              "\n",
              "  .colab-df-quickchart:hover {\n",
              "    background-color: var(--hover-bg-color);\n",
              "    box-shadow: 0 1px 2px rgba(60, 64, 67, 0.3), 0 1px 3px 1px rgba(60, 64, 67, 0.15);\n",
              "    fill: var(--button-hover-fill-color);\n",
              "  }\n",
              "\n",
              "  .colab-df-quickchart-complete:disabled,\n",
              "  .colab-df-quickchart-complete:disabled:hover {\n",
              "    background-color: var(--disabled-bg-color);\n",
              "    fill: var(--disabled-fill-color);\n",
              "    box-shadow: none;\n",
              "  }\n",
              "\n",
              "  .colab-df-spinner {\n",
              "    border: 2px solid var(--fill-color);\n",
              "    border-color: transparent;\n",
              "    border-bottom-color: var(--fill-color);\n",
              "    animation:\n",
              "      spin 1s steps(1) infinite;\n",
              "  }\n",
              "\n",
              "  @keyframes spin {\n",
              "    0% {\n",
              "      border-color: transparent;\n",
              "      border-bottom-color: var(--fill-color);\n",
              "      border-left-color: var(--fill-color);\n",
              "    }\n",
              "    20% {\n",
              "      border-color: transparent;\n",
              "      border-left-color: var(--fill-color);\n",
              "      border-top-color: var(--fill-color);\n",
              "    }\n",
              "    30% {\n",
              "      border-color: transparent;\n",
              "      border-left-color: var(--fill-color);\n",
              "      border-top-color: var(--fill-color);\n",
              "      border-right-color: var(--fill-color);\n",
              "    }\n",
              "    40% {\n",
              "      border-color: transparent;\n",
              "      border-right-color: var(--fill-color);\n",
              "      border-top-color: var(--fill-color);\n",
              "    }\n",
              "    60% {\n",
              "      border-color: transparent;\n",
              "      border-right-color: var(--fill-color);\n",
              "    }\n",
              "    80% {\n",
              "      border-color: transparent;\n",
              "      border-right-color: var(--fill-color);\n",
              "      border-bottom-color: var(--fill-color);\n",
              "    }\n",
              "    90% {\n",
              "      border-color: transparent;\n",
              "      border-bottom-color: var(--fill-color);\n",
              "    }\n",
              "  }\n",
              "</style>\n",
              "\n",
              "  <script>\n",
              "    async function quickchart(key) {\n",
              "      const quickchartButtonEl =\n",
              "        document.querySelector('#' + key + ' button');\n",
              "      quickchartButtonEl.disabled = true;  // To prevent multiple clicks.\n",
              "      quickchartButtonEl.classList.add('colab-df-spinner');\n",
              "      try {\n",
              "        const charts = await google.colab.kernel.invokeFunction(\n",
              "            'suggestCharts', [key], {});\n",
              "      } catch (error) {\n",
              "        console.error('Error during call to suggestCharts:', error);\n",
              "      }\n",
              "      quickchartButtonEl.classList.remove('colab-df-spinner');\n",
              "      quickchartButtonEl.classList.add('colab-df-quickchart-complete');\n",
              "    }\n",
              "    (() => {\n",
              "      let quickchartButtonEl =\n",
              "        document.querySelector('#df-ba283059-8bd6-48c9-ba1f-df34f8d4550a button');\n",
              "      quickchartButtonEl.style.display =\n",
              "        google.colab.kernel.accessAllowed ? 'block' : 'none';\n",
              "    })();\n",
              "  </script>\n",
              "</div>\n",
              "\n",
              "    </div>\n",
              "  </div>\n"
            ]
          },
          "metadata": {},
          "execution_count": 18
        }
      ],
      "source": [
        "# generate descriptive statistics of the dataset.\n",
        "df.describe().round(3)"
      ]
    },
    {
      "cell_type": "code",
      "execution_count": 19,
      "metadata": {
        "id": "remog-Iuzbac",
        "colab": {
          "base_uri": "https://localhost:8080/",
          "height": 237
        },
        "outputId": "ee1acf21-b09f-4b0f-fc86-caf671e0ec20"
      },
      "outputs": [
        {
          "output_type": "execute_result",
          "data": {
            "text/plain": [
              "                 CUSTOMER_ID  TERMINAL_ID  TX_AMOUNT  TX_TIME_SECONDS  \\\n",
              "CUSTOMER_ID         1.000000     0.000389  -0.002633        -0.000389   \n",
              "TERMINAL_ID         0.000389     1.000000  -0.000758        -0.000690   \n",
              "TX_AMOUNT          -0.002633    -0.000758   1.000000         0.002453   \n",
              "TX_TIME_SECONDS    -0.000389    -0.000690   0.002453         1.000000   \n",
              "TX_TIME_DAYS       -0.000389    -0.000690   0.002449         0.999992   \n",
              "TX_FRAUD            0.004353    -0.002160   0.313427         0.002650   \n",
              "\n",
              "                 TX_TIME_DAYS  TX_FRAUD  \n",
              "CUSTOMER_ID         -0.000389  0.004353  \n",
              "TERMINAL_ID         -0.000690 -0.002160  \n",
              "TX_AMOUNT            0.002449  0.313427  \n",
              "TX_TIME_SECONDS      0.999992  0.002650  \n",
              "TX_TIME_DAYS         1.000000  0.002650  \n",
              "TX_FRAUD             0.002650  1.000000  "
            ],
            "text/html": [
              "\n",
              "  <div id=\"df-26ae1da9-6955-44e8-acb4-a6082a222328\" class=\"colab-df-container\">\n",
              "    <div>\n",
              "<style scoped>\n",
              "    .dataframe tbody tr th:only-of-type {\n",
              "        vertical-align: middle;\n",
              "    }\n",
              "\n",
              "    .dataframe tbody tr th {\n",
              "        vertical-align: top;\n",
              "    }\n",
              "\n",
              "    .dataframe thead th {\n",
              "        text-align: right;\n",
              "    }\n",
              "</style>\n",
              "<table border=\"1\" class=\"dataframe\">\n",
              "  <thead>\n",
              "    <tr style=\"text-align: right;\">\n",
              "      <th></th>\n",
              "      <th>CUSTOMER_ID</th>\n",
              "      <th>TERMINAL_ID</th>\n",
              "      <th>TX_AMOUNT</th>\n",
              "      <th>TX_TIME_SECONDS</th>\n",
              "      <th>TX_TIME_DAYS</th>\n",
              "      <th>TX_FRAUD</th>\n",
              "    </tr>\n",
              "  </thead>\n",
              "  <tbody>\n",
              "    <tr>\n",
              "      <th>CUSTOMER_ID</th>\n",
              "      <td>1.000000</td>\n",
              "      <td>0.000389</td>\n",
              "      <td>-0.002633</td>\n",
              "      <td>-0.000389</td>\n",
              "      <td>-0.000389</td>\n",
              "      <td>0.004353</td>\n",
              "    </tr>\n",
              "    <tr>\n",
              "      <th>TERMINAL_ID</th>\n",
              "      <td>0.000389</td>\n",
              "      <td>1.000000</td>\n",
              "      <td>-0.000758</td>\n",
              "      <td>-0.000690</td>\n",
              "      <td>-0.000690</td>\n",
              "      <td>-0.002160</td>\n",
              "    </tr>\n",
              "    <tr>\n",
              "      <th>TX_AMOUNT</th>\n",
              "      <td>-0.002633</td>\n",
              "      <td>-0.000758</td>\n",
              "      <td>1.000000</td>\n",
              "      <td>0.002453</td>\n",
              "      <td>0.002449</td>\n",
              "      <td>0.313427</td>\n",
              "    </tr>\n",
              "    <tr>\n",
              "      <th>TX_TIME_SECONDS</th>\n",
              "      <td>-0.000389</td>\n",
              "      <td>-0.000690</td>\n",
              "      <td>0.002453</td>\n",
              "      <td>1.000000</td>\n",
              "      <td>0.999992</td>\n",
              "      <td>0.002650</td>\n",
              "    </tr>\n",
              "    <tr>\n",
              "      <th>TX_TIME_DAYS</th>\n",
              "      <td>-0.000389</td>\n",
              "      <td>-0.000690</td>\n",
              "      <td>0.002449</td>\n",
              "      <td>0.999992</td>\n",
              "      <td>1.000000</td>\n",
              "      <td>0.002650</td>\n",
              "    </tr>\n",
              "    <tr>\n",
              "      <th>TX_FRAUD</th>\n",
              "      <td>0.004353</td>\n",
              "      <td>-0.002160</td>\n",
              "      <td>0.313427</td>\n",
              "      <td>0.002650</td>\n",
              "      <td>0.002650</td>\n",
              "      <td>1.000000</td>\n",
              "    </tr>\n",
              "  </tbody>\n",
              "</table>\n",
              "</div>\n",
              "    <div class=\"colab-df-buttons\">\n",
              "\n",
              "  <div class=\"colab-df-container\">\n",
              "    <button class=\"colab-df-convert\" onclick=\"convertToInteractive('df-26ae1da9-6955-44e8-acb4-a6082a222328')\"\n",
              "            title=\"Convert this dataframe to an interactive table.\"\n",
              "            style=\"display:none;\">\n",
              "\n",
              "  <svg xmlns=\"http://www.w3.org/2000/svg\" height=\"24px\" viewBox=\"0 -960 960 960\">\n",
              "    <path d=\"M120-120v-720h720v720H120Zm60-500h600v-160H180v160Zm220 220h160v-160H400v160Zm0 220h160v-160H400v160ZM180-400h160v-160H180v160Zm440 0h160v-160H620v160ZM180-180h160v-160H180v160Zm440 0h160v-160H620v160Z\"/>\n",
              "  </svg>\n",
              "    </button>\n",
              "\n",
              "  <style>\n",
              "    .colab-df-container {\n",
              "      display:flex;\n",
              "      gap: 12px;\n",
              "    }\n",
              "\n",
              "    .colab-df-convert {\n",
              "      background-color: #E8F0FE;\n",
              "      border: none;\n",
              "      border-radius: 50%;\n",
              "      cursor: pointer;\n",
              "      display: none;\n",
              "      fill: #1967D2;\n",
              "      height: 32px;\n",
              "      padding: 0 0 0 0;\n",
              "      width: 32px;\n",
              "    }\n",
              "\n",
              "    .colab-df-convert:hover {\n",
              "      background-color: #E2EBFA;\n",
              "      box-shadow: 0px 1px 2px rgba(60, 64, 67, 0.3), 0px 1px 3px 1px rgba(60, 64, 67, 0.15);\n",
              "      fill: #174EA6;\n",
              "    }\n",
              "\n",
              "    .colab-df-buttons div {\n",
              "      margin-bottom: 4px;\n",
              "    }\n",
              "\n",
              "    [theme=dark] .colab-df-convert {\n",
              "      background-color: #3B4455;\n",
              "      fill: #D2E3FC;\n",
              "    }\n",
              "\n",
              "    [theme=dark] .colab-df-convert:hover {\n",
              "      background-color: #434B5C;\n",
              "      box-shadow: 0px 1px 3px 1px rgba(0, 0, 0, 0.15);\n",
              "      filter: drop-shadow(0px 1px 2px rgba(0, 0, 0, 0.3));\n",
              "      fill: #FFFFFF;\n",
              "    }\n",
              "  </style>\n",
              "\n",
              "    <script>\n",
              "      const buttonEl =\n",
              "        document.querySelector('#df-26ae1da9-6955-44e8-acb4-a6082a222328 button.colab-df-convert');\n",
              "      buttonEl.style.display =\n",
              "        google.colab.kernel.accessAllowed ? 'block' : 'none';\n",
              "\n",
              "      async function convertToInteractive(key) {\n",
              "        const element = document.querySelector('#df-26ae1da9-6955-44e8-acb4-a6082a222328');\n",
              "        const dataTable =\n",
              "          await google.colab.kernel.invokeFunction('convertToInteractive',\n",
              "                                                    [key], {});\n",
              "        if (!dataTable) return;\n",
              "\n",
              "        const docLinkHtml = 'Like what you see? Visit the ' +\n",
              "          '<a target=\"_blank\" href=https://colab.research.google.com/notebooks/data_table.ipynb>data table notebook</a>'\n",
              "          + ' to learn more about interactive tables.';\n",
              "        element.innerHTML = '';\n",
              "        dataTable['output_type'] = 'display_data';\n",
              "        await google.colab.output.renderOutput(dataTable, element);\n",
              "        const docLink = document.createElement('div');\n",
              "        docLink.innerHTML = docLinkHtml;\n",
              "        element.appendChild(docLink);\n",
              "      }\n",
              "    </script>\n",
              "  </div>\n",
              "\n",
              "\n",
              "<div id=\"df-298050ac-7e26-43bf-8e37-d7bdc358ee00\">\n",
              "  <button class=\"colab-df-quickchart\" onclick=\"quickchart('df-298050ac-7e26-43bf-8e37-d7bdc358ee00')\"\n",
              "            title=\"Suggest charts\"\n",
              "            style=\"display:none;\">\n",
              "\n",
              "<svg xmlns=\"http://www.w3.org/2000/svg\" height=\"24px\"viewBox=\"0 0 24 24\"\n",
              "     width=\"24px\">\n",
              "    <g>\n",
              "        <path d=\"M19 3H5c-1.1 0-2 .9-2 2v14c0 1.1.9 2 2 2h14c1.1 0 2-.9 2-2V5c0-1.1-.9-2-2-2zM9 17H7v-7h2v7zm4 0h-2V7h2v10zm4 0h-2v-4h2v4z\"/>\n",
              "    </g>\n",
              "</svg>\n",
              "  </button>\n",
              "\n",
              "<style>\n",
              "  .colab-df-quickchart {\n",
              "      --bg-color: #E8F0FE;\n",
              "      --fill-color: #1967D2;\n",
              "      --hover-bg-color: #E2EBFA;\n",
              "      --hover-fill-color: #174EA6;\n",
              "      --disabled-fill-color: #AAA;\n",
              "      --disabled-bg-color: #DDD;\n",
              "  }\n",
              "\n",
              "  [theme=dark] .colab-df-quickchart {\n",
              "      --bg-color: #3B4455;\n",
              "      --fill-color: #D2E3FC;\n",
              "      --hover-bg-color: #434B5C;\n",
              "      --hover-fill-color: #FFFFFF;\n",
              "      --disabled-bg-color: #3B4455;\n",
              "      --disabled-fill-color: #666;\n",
              "  }\n",
              "\n",
              "  .colab-df-quickchart {\n",
              "    background-color: var(--bg-color);\n",
              "    border: none;\n",
              "    border-radius: 50%;\n",
              "    cursor: pointer;\n",
              "    display: none;\n",
              "    fill: var(--fill-color);\n",
              "    height: 32px;\n",
              "    padding: 0;\n",
              "    width: 32px;\n",
              "  }\n",
              "\n",
              "  .colab-df-quickchart:hover {\n",
              "    background-color: var(--hover-bg-color);\n",
              "    box-shadow: 0 1px 2px rgba(60, 64, 67, 0.3), 0 1px 3px 1px rgba(60, 64, 67, 0.15);\n",
              "    fill: var(--button-hover-fill-color);\n",
              "  }\n",
              "\n",
              "  .colab-df-quickchart-complete:disabled,\n",
              "  .colab-df-quickchart-complete:disabled:hover {\n",
              "    background-color: var(--disabled-bg-color);\n",
              "    fill: var(--disabled-fill-color);\n",
              "    box-shadow: none;\n",
              "  }\n",
              "\n",
              "  .colab-df-spinner {\n",
              "    border: 2px solid var(--fill-color);\n",
              "    border-color: transparent;\n",
              "    border-bottom-color: var(--fill-color);\n",
              "    animation:\n",
              "      spin 1s steps(1) infinite;\n",
              "  }\n",
              "\n",
              "  @keyframes spin {\n",
              "    0% {\n",
              "      border-color: transparent;\n",
              "      border-bottom-color: var(--fill-color);\n",
              "      border-left-color: var(--fill-color);\n",
              "    }\n",
              "    20% {\n",
              "      border-color: transparent;\n",
              "      border-left-color: var(--fill-color);\n",
              "      border-top-color: var(--fill-color);\n",
              "    }\n",
              "    30% {\n",
              "      border-color: transparent;\n",
              "      border-left-color: var(--fill-color);\n",
              "      border-top-color: var(--fill-color);\n",
              "      border-right-color: var(--fill-color);\n",
              "    }\n",
              "    40% {\n",
              "      border-color: transparent;\n",
              "      border-right-color: var(--fill-color);\n",
              "      border-top-color: var(--fill-color);\n",
              "    }\n",
              "    60% {\n",
              "      border-color: transparent;\n",
              "      border-right-color: var(--fill-color);\n",
              "    }\n",
              "    80% {\n",
              "      border-color: transparent;\n",
              "      border-right-color: var(--fill-color);\n",
              "      border-bottom-color: var(--fill-color);\n",
              "    }\n",
              "    90% {\n",
              "      border-color: transparent;\n",
              "      border-bottom-color: var(--fill-color);\n",
              "    }\n",
              "  }\n",
              "</style>\n",
              "\n",
              "  <script>\n",
              "    async function quickchart(key) {\n",
              "      const quickchartButtonEl =\n",
              "        document.querySelector('#' + key + ' button');\n",
              "      quickchartButtonEl.disabled = true;  // To prevent multiple clicks.\n",
              "      quickchartButtonEl.classList.add('colab-df-spinner');\n",
              "      try {\n",
              "        const charts = await google.colab.kernel.invokeFunction(\n",
              "            'suggestCharts', [key], {});\n",
              "      } catch (error) {\n",
              "        console.error('Error during call to suggestCharts:', error);\n",
              "      }\n",
              "      quickchartButtonEl.classList.remove('colab-df-spinner');\n",
              "      quickchartButtonEl.classList.add('colab-df-quickchart-complete');\n",
              "    }\n",
              "    (() => {\n",
              "      let quickchartButtonEl =\n",
              "        document.querySelector('#df-298050ac-7e26-43bf-8e37-d7bdc358ee00 button');\n",
              "      quickchartButtonEl.style.display =\n",
              "        google.colab.kernel.accessAllowed ? 'block' : 'none';\n",
              "    })();\n",
              "  </script>\n",
              "</div>\n",
              "\n",
              "  <div id=\"id_b2c6ea5f-a933-4a6f-9744-74b1025aa06a\">\n",
              "    <style>\n",
              "      .colab-df-generate {\n",
              "        background-color: #E8F0FE;\n",
              "        border: none;\n",
              "        border-radius: 50%;\n",
              "        cursor: pointer;\n",
              "        display: none;\n",
              "        fill: #1967D2;\n",
              "        height: 32px;\n",
              "        padding: 0 0 0 0;\n",
              "        width: 32px;\n",
              "      }\n",
              "\n",
              "      .colab-df-generate:hover {\n",
              "        background-color: #E2EBFA;\n",
              "        box-shadow: 0px 1px 2px rgba(60, 64, 67, 0.3), 0px 1px 3px 1px rgba(60, 64, 67, 0.15);\n",
              "        fill: #174EA6;\n",
              "      }\n",
              "\n",
              "      [theme=dark] .colab-df-generate {\n",
              "        background-color: #3B4455;\n",
              "        fill: #D2E3FC;\n",
              "      }\n",
              "\n",
              "      [theme=dark] .colab-df-generate:hover {\n",
              "        background-color: #434B5C;\n",
              "        box-shadow: 0px 1px 3px 1px rgba(0, 0, 0, 0.15);\n",
              "        filter: drop-shadow(0px 1px 2px rgba(0, 0, 0, 0.3));\n",
              "        fill: #FFFFFF;\n",
              "      }\n",
              "    </style>\n",
              "    <button class=\"colab-df-generate\" onclick=\"generateWithVariable('corr')\"\n",
              "            title=\"Generate code using this dataframe.\"\n",
              "            style=\"display:none;\">\n",
              "\n",
              "  <svg xmlns=\"http://www.w3.org/2000/svg\" height=\"24px\"viewBox=\"0 0 24 24\"\n",
              "       width=\"24px\">\n",
              "    <path d=\"M7,19H8.4L18.45,9,17,7.55,7,17.6ZM5,21V16.75L18.45,3.32a2,2,0,0,1,2.83,0l1.4,1.43a1.91,1.91,0,0,1,.58,1.4,1.91,1.91,0,0,1-.58,1.4L9.25,21ZM18.45,9,17,7.55Zm-12,3A5.31,5.31,0,0,0,4.9,8.1,5.31,5.31,0,0,0,1,6.5,5.31,5.31,0,0,0,4.9,4.9,5.31,5.31,0,0,0,6.5,1,5.31,5.31,0,0,0,8.1,4.9,5.31,5.31,0,0,0,12,6.5,5.46,5.46,0,0,0,6.5,12Z\"/>\n",
              "  </svg>\n",
              "    </button>\n",
              "    <script>\n",
              "      (() => {\n",
              "      const buttonEl =\n",
              "        document.querySelector('#id_b2c6ea5f-a933-4a6f-9744-74b1025aa06a button.colab-df-generate');\n",
              "      buttonEl.style.display =\n",
              "        google.colab.kernel.accessAllowed ? 'block' : 'none';\n",
              "\n",
              "      buttonEl.onclick = () => {\n",
              "        google.colab.notebook.generateWithVariable('corr');\n",
              "      }\n",
              "      })();\n",
              "    </script>\n",
              "  </div>\n",
              "\n",
              "    </div>\n",
              "  </div>\n"
            ]
          },
          "metadata": {},
          "execution_count": 19
        }
      ],
      "source": [
        "# checking relationship i.e correlation of variable in the dataset\n",
        "corr = df.corr()\n",
        "corr"
      ]
    },
    {
      "cell_type": "code",
      "execution_count": 20,
      "metadata": {
        "id": "yRm5-a9vzbaf",
        "colab": {
          "base_uri": "https://localhost:8080/",
          "height": 555
        },
        "outputId": "2f603893-d49d-4317-e676-d7be8ee08433"
      },
      "outputs": [
        {
          "output_type": "display_data",
          "data": {
            "text/plain": [
              "<Figure size 640x480 with 2 Axes>"
            ],
            "image/png": "[encoded data removed]"
          },
          "metadata": {}
        }
      ],
      "source": [
        "# checking correlation in heatmap\n",
        "sns.heatmap(corr, annot=True, cmap='coolwarm', linewidths=1.5)\n",
        "plt.show()"
      ]
    },
    {
      "cell_type": "markdown",
      "metadata": {
        "id": "CIV0PRQbyjM9"
      },
      "source": [
        "**Calculating the mutual information of each variable**"
      ]
    },
    {
      "cell_type": "code",
      "execution_count": 21,
      "metadata": {
        "id": "Wa9Dl0PhyjM-",
        "colab": {
          "base_uri": "https://localhost:8080/",
          "height": 469
        },
        "outputId": "c8e240b3-c329-4d94-8e80-e85bdc260b4c"
      },
      "outputs": [
        {
          "output_type": "execute_result",
          "data": {
            "text/plain": [
              "Text(0.5, 1.0, 'Mutual Information Scores')"
            ]
          },
          "metadata": {},
          "execution_count": 21
        },
        {
          "output_type": "display_data",
          "data": {
            "text/plain": [
              "<Figure size 640x480 with 1 Axes>"
            ],
            "image/png": "[encoded data removed]"
          },
          "metadata": {}
        }
      ],
      "source": [
        "# using mutual info classif to calculate the mutual information of each independent variable\n",
        "mi_scores = mutual_info_classif(df.drop(['TX_FRAUD'], axis = 1), df['TX_FRAUD'], random_state = 0)\n",
        "mi_scores = pd.Series(mi_scores, name = 'MI Scores', index = df.drop('TX_FRAUD', axis = 1).columns)\n",
        "\n",
        "mi_scores = mi_scores.sort_values(ascending = True)\n",
        "width = np.arange(len(mi_scores))\n",
        "ticks = list(mi_scores.index)\n",
        "plt.barh(width, mi_scores)\n",
        "plt.yticks(width, ticks)\n",
        "plt.title(\"Mutual Information Scores\")"
      ]
    },
    {
      "cell_type": "markdown",
      "metadata": {
        "id": "vyLPSPrV56Ay"
      },
      "source": [
        "**NOTE:**\n",
        "\n",
        "The customer transaction dataset is highly skewed. **Skew** can be seen as a distortion froma normal distribution. Make use of **histplot function from seanborn** library to plot a distribution of the amount column in the dataset. discover that amount column is heavily skewed to the left side and could cause the neural network algorithm to trained on a much larger number of moderately customer transaction amount, and will be less likely  to successfully predict the customer with much larger amount.\n",
        "\n",
        "So we can use of the **Shapiro** which was imported using the command \"from scipy.stats import shapiro\". Shapiro is a statistical test that is used to check whether a data is normally distributed or not.\n",
        "\n",
        "."
      ]
    },
    {
      "cell_type": "code",
      "execution_count": 22,
      "metadata": {
        "id": "0yhCAgl6zbal",
        "colab": {
          "base_uri": "https://localhost:8080/",
          "height": 472
        },
        "outputId": "0bec6beb-7c4a-432e-8f00-d2af5fb06593"
      },
      "outputs": [
        {
          "output_type": "display_data",
          "data": {
            "text/plain": [
              "<Figure size 640x480 with 1 Axes>"
            ],
            "image/png": "[encoded data removed]"
          },
          "metadata": {}
        }
      ],
      "source": [
        "# detecting outliers using boxplot\n",
        "plt.title('detecting outliers using boxplot')\n",
        "sns.boxplot(x='TX_AMOUNT', data=df)\n",
        "plt.show()"
      ]
    },
    {
      "cell_type": "code",
      "execution_count": 23,
      "metadata": {
        "id": "AuIBrqz1zbao",
        "colab": {
          "base_uri": "https://localhost:8080/",
          "height": 472
        },
        "outputId": "e96bc6f8-48b2-40ab-f5c8-e054745c5f22"
      },
      "outputs": [
        {
          "output_type": "display_data",
          "data": {
            "text/plain": [
              "<Figure size 640x480 with 1 Axes>"
            ],
            "image/png": "[encoded data removed]"
          },
          "metadata": {}
        }
      ],
      "source": [
        "# plotting target col\n",
        "plt.title('Visualizing Target Col')\n",
        "sns.countplot(x='TX_FRAUD', data=df)\n",
        "plt.show()"
      ]
    },
    {
      "cell_type": "markdown",
      "metadata": {
        "id": "k_CcBHOOA2Qm"
      },
      "source": [
        "**Detecting Skewness using the Shapiro-Wilks-Test from Scipy Package**\n",
        "\n"
      ]
    },
    {
      "cell_type": "code",
      "execution_count": 24,
      "metadata": {
        "id": "tdMtb-0kBJyy"
      },
      "outputs": [],
      "source": [
        "# created a variable called resp to hold the amount values\n",
        "resp = df.TX_AMOUNT"
      ]
    },
    {
      "cell_type": "code",
      "execution_count": 25,
      "metadata": {
        "id": "3vXANgHKBbW0",
        "colab": {
          "base_uri": "https://localhost:8080/"
        },
        "outputId": "305e4a5c-ac99-4c38-ef28-e7303066624f"
      },
      "outputs": [
        {
          "output_type": "execute_result",
          "data": {
            "text/plain": [
              "ShapiroResult(statistic=0.1717889904975891, pvalue=0.0)"
            ]
          },
          "metadata": {},
          "execution_count": 25
        }
      ],
      "source": [
        "# Perform the Shapiro-Wilk test for normality.\n",
        "shapiro(resp)"
      ]
    },
    {
      "cell_type": "markdown",
      "metadata": {
        "id": "qzfW3fGnYkpH"
      },
      "source": [
        "H0 (Null): Sample is from normal distribution. (P>0.05)\n",
        "\n",
        "H1 (Alternative): Sample is not from normal distribution.\n",
        "\n",
        "\n",
        "**Output Interpretation**\n",
        "\n",
        "Since in the above diagram, the p-value is 0.0 which is less than alpha (0.05)\n",
        "then we reject the null hypothesis i.e. we have sufficient evidence to say that sample does not come from a normal distribution."
      ]
    },
    {
      "cell_type": "markdown",
      "metadata": {
        "id": "ER-rQn9Dzbaq"
      },
      "source": [
        "**Performing Feature Engineering**"
      ]
    },
    {
      "cell_type": "code",
      "execution_count": 26,
      "metadata": {
        "id": "VC7ijuLazbax"
      },
      "outputs": [],
      "source": [
        "# assign independent variables\n",
        "x = df.drop(['TX_FRAUD'], axis=1)\n",
        "# assign dependent variable\n",
        "y = df['TX_FRAUD']"
      ]
    },
    {
      "cell_type": "markdown",
      "metadata": {
        "id": "GtRI8V0fzbaz"
      },
      "source": [
        "# **Splitting Dataset into Training and Testing Set**"
      ]
    },
    {
      "cell_type": "code",
      "execution_count": 27,
      "metadata": {
        "id": "hJyyQ-vhzba0"
      },
      "outputs": [],
      "source": [
        "# Split arrays or matrices into random train and test subsets.\n",
        "x_train, x_test, y_train, y_test = train_test_split(x, y, stratify=y, test_size=0.3, random_state=52)"
      ]
    },
    {
      "cell_type": "code",
      "execution_count": 28,
      "metadata": {
        "id": "GWJicL2kzba2",
        "colab": {
          "base_uri": "https://localhost:8080/"
        },
        "outputId": "65442a06-c98c-41ca-ccc2-80ff205db8c5"
      },
      "outputs": [
        {
          "output_type": "stream",
          "name": "stdout",
          "text": [
            "(1227908, 5)\n",
            "(526247, 5)\n",
            "(1227908,)\n",
            "(526247,)\n"
          ]
        }
      ],
      "source": [
        "# checking the spread of data\n",
        "print(x_train.shape)\n",
        "print(x_test.shape)\n",
        "print(y_train.shape)\n",
        "print(y_test.shape)"
      ]
    },
    {
      "cell_type": "code",
      "execution_count": 29,
      "metadata": {
        "id": "jlthQNod804m",
        "colab": {
          "base_uri": "https://localhost:8080/"
        },
        "outputId": "240ec7fa-f4ae-4016-9142-a4006dee0cd0"
      },
      "outputs": [
        {
          "output_type": "stream",
          "name": "stdout",
          "text": [
            "(1227908, 5)\n",
            "         CUSTOMER_ID  TERMINAL_ID  TX_AMOUNT  TX_TIME_SECONDS  TX_TIME_DAYS\n",
            "145539          2411          181     278.41          1322302            15\n",
            "1595357         4819         6748     464.52         14382641           166\n",
            "1377501         3100         3162    1134.89         12408574           143\n",
            "689578           752         7061      95.13          6202371            71\n",
            "1731820         1528         1800     914.96         15603537           180\n",
            "...              ...          ...        ...              ...           ...\n",
            "786577          1534         6672     998.71          7092618            82\n",
            "1208948         3469         8413      94.05         10904933           126\n",
            "605317           742         2160     171.41          5463342            63\n",
            "376542          2314         5341     907.48          3398737            39\n",
            "510165          3393         7669     230.68          4602290            53\n",
            "\n",
            "[1227908 rows x 5 columns]\n"
          ]
        }
      ],
      "source": [
        "# checking the shape of the x_train\n",
        "print(x_train.shape)\n",
        "# features that will be usd for training\n",
        "print(x_train)"
      ]
    },
    {
      "cell_type": "code",
      "execution_count": 30,
      "metadata": {
        "id": "CYB1wVXM-ATQ",
        "colab": {
          "base_uri": "https://localhost:8080/"
        },
        "outputId": "4441a75a-45e9-41eb-fe64-5ceea95db1c0"
      },
      "outputs": [
        {
          "output_type": "stream",
          "name": "stdout",
          "text": [
            "(1227908,)\n",
            "145539     0\n",
            "1595357    0\n",
            "1377501    1\n",
            "689578     0\n",
            "1731820    0\n",
            "          ..\n",
            "786577     0\n",
            "1208948    0\n",
            "605317     0\n",
            "376542     0\n",
            "510165     0\n",
            "Name: TX_FRAUD, Length: 1227908, dtype: int64\n"
          ]
        }
      ],
      "source": [
        "# checking the shape of the y_train\n",
        "print(y_train.shape)\n",
        "# target label that will be use during training\n",
        "print(y_train)"
      ]
    },
    {
      "cell_type": "code",
      "execution_count": 31,
      "metadata": {
        "id": "sv8xuB0J-V1v",
        "colab": {
          "base_uri": "https://localhost:8080/"
        },
        "outputId": "dda2e997-80df-4790-b198-5e112e3a7539"
      },
      "outputs": [
        {
          "output_type": "stream",
          "name": "stdout",
          "text": [
            "(526247, 5)\n",
            "         CUSTOMER_ID  TERMINAL_ID  TX_AMOUNT  TX_TIME_SECONDS  TX_TIME_DAYS\n",
            "1365858         2040         1094     807.95         12310504           142\n",
            "1233222         1168         6403      15.19         11109491           128\n",
            "926363           688         1036     835.92          8339539            96\n",
            "1025664         2490         2314     747.30          9234104           106\n",
            "1481708         3807          183     274.79         13354163           154\n",
            "...              ...          ...        ...              ...           ...\n",
            "1429378          584         1882     593.27         12893276           149\n",
            "891923          1220         6831    1295.72          8027465            92\n",
            "118074           521         5840    1267.63          1070909            12\n",
            "75168           2807          404     450.87           668849             7\n",
            "768873          2084         5454     268.04          6936316            80\n",
            "\n",
            "[526247 rows x 5 columns]\n"
          ]
        }
      ],
      "source": [
        "# checking the shape of the x_test\n",
        "print(x_test.shape)\n",
        "# the unseen data that will be used for evaluation\n",
        "print(x_test)"
      ]
    },
    {
      "cell_type": "code",
      "execution_count": 32,
      "metadata": {
        "id": "ovSDayq--uqT",
        "colab": {
          "base_uri": "https://localhost:8080/"
        },
        "outputId": "5d13ab1d-7a6b-449f-ff2a-26ebf5ae8c4a"
      },
      "outputs": [
        {
          "output_type": "stream",
          "name": "stdout",
          "text": [
            "(526247,)\n",
            "1365858    0\n",
            "1233222    0\n",
            "926363     0\n",
            "1025664    0\n",
            "1481708    0\n",
            "          ..\n",
            "1429378    0\n",
            "891923     1\n",
            "118074     1\n",
            "75168      0\n",
            "768873     0\n",
            "Name: TX_FRAUD, Length: 526247, dtype: int64\n"
          ]
        }
      ],
      "source": [
        "# checking the shape of the y_test\n",
        "print(y_test.shape)\n",
        "# actual value that will be use to evaluate\n",
        "# model predict value\n",
        "print(y_test)"
      ]
    },
    {
      "cell_type": "markdown",
      "metadata": {
        "id": "lHMOuO81yjNY"
      },
      "source": [
        "**Feature Scaling**"
      ]
    },
    {
      "cell_type": "code",
      "execution_count": 33,
      "metadata": {
        "id": "i0HW49pqzbbB"
      },
      "outputs": [],
      "source": [
        "# Transform features by scaling each feature to a given range.\n",
        "mn = MinMaxScaler()\n",
        "\n",
        "# Fit to data, then transform it. the training datasets\n",
        "x_train = mn.fit_transform(x_train)\n",
        "# Perform standardization by centering and scaling on the testing datasets\n",
        "x_test = mn.transform(x_test)"
      ]
    },
    {
      "cell_type": "markdown",
      "metadata": {
        "id": "12JCPzjBzbbD"
      },
      "source": [
        "**Model Development**\n",
        "\n",
        "TensorFlow is an open-sourced end-to-end platform, a library for multiple machine learning tasks,\n",
        "while Keras is a high-level neural network library that runs on top of TensorFlow"
      ]
    },
    {
      "cell_type": "code",
      "execution_count": 34,
      "metadata": {
        "id": "KT6DG8hQzbbE"
      },
      "outputs": [],
      "source": [
        "# building keras model\n",
        "def build_model():\n",
        "    # Sequential groups a linear stack of layers\n",
        "    model = Sequential([\n",
        "        Dense(32, activation=\"relu\", input_shape=(5,)),\n",
        "        Dense(64, activation=\"relu\"),\n",
        "        Dense(32, activation=\"relu\"),\n",
        "        Dense(1, activation=\"sigmoid\")\n",
        "    ])\n",
        "\n",
        "    return model\n",
        "model = build_model()"
      ]
    },
    {
      "cell_type": "code",
      "execution_count": 35,
      "metadata": {
        "id": "CcnmBiXuzbbG",
        "colab": {
          "base_uri": "https://localhost:8080/"
        },
        "outputId": "16e7ec7c-779d-4ff5-b582-994be08f5aaa"
      },
      "outputs": [
        {
          "output_type": "stream",
          "name": "stdout",
          "text": [
            "Model: \"sequential\"\n",
            "_________________________________________________________________\n",
            " Layer (type)                Output Shape              Param #   \n",
            "=================================================================\n",
            " dense (Dense)               (None, 32)                192       \n",
            "                                                                 \n",
            " dense_1 (Dense)             (None, 64)                2112      \n",
            "                                                                 \n",
            " dense_2 (Dense)             (None, 32)                2080      \n",
            "                                                                 \n",
            " dense_3 (Dense)             (None, 1)                 33        \n",
            "                                                                 \n",
            "=================================================================\n",
            "Total params: 4417 (17.25 KB)\n",
            "Trainable params: 4417 (17.25 KB)\n",
            "Non-trainable params: 0 (0.00 Byte)\n",
            "_________________________________________________________________\n"
          ]
        }
      ],
      "source": [
        "# Prints a string summary of the network.\n",
        "model.summary()"
      ]
    },
    {
      "cell_type": "code",
      "execution_count": 36,
      "metadata": {
        "id": "k8VDwyEjyjNe"
      },
      "outputs": [],
      "source": [
        "# Configures the model for training.\n",
        "model.compile(\n",
        "    # Gradient descent (with momentum) optimizer.\n",
        "    optimizer=Adam(learning_rate=0.01),\n",
        "    # Computes the cross-entropy loss between true labels and predicted labels.\n",
        "    loss=BinaryCrossentropy(),\n",
        "    # Calculates how often predictions match binary labels.\n",
        "    metrics=[BinaryAccuracy()]\n",
        ")"
      ]
    },
    {
      "cell_type": "code",
      "execution_count": 37,
      "metadata": {
        "id": "VvaVxDyoyjNg"
      },
      "outputs": [],
      "source": [
        "# Stop training when a monitored metric has stopped improving.\n",
        "callback = EarlyStopping(monitor='val_loss', patience=3)"
      ]
    },
    {
      "cell_type": "code",
      "execution_count": 38,
      "metadata": {
        "id": "TB5Bm1T5zbbM",
        "colab": {
          "base_uri": "https://localhost:8080/"
        },
        "outputId": "2f2d8638-7506-4140-93d0-33da356a2213"
      },
      "outputs": [
        {
          "output_type": "stream",
          "name": "stdout",
          "text": [
            "Epoch 1/30\n",
            "9594/9594 [==============================] - 37s 4ms/step - loss: 0.1343 - binary_accuracy: 0.9543 - val_loss: 0.2341 - val_binary_accuracy: 0.9307\n",
            "Epoch 2/30\n",
            "9594/9594 [==============================] - 39s 4ms/step - loss: 0.0832 - binary_accuracy: 0.9729 - val_loss: 0.0496 - val_binary_accuracy: 0.9902\n",
            "Epoch 3/30\n",
            "9594/9594 [==============================] - 37s 4ms/step - loss: 0.0741 - binary_accuracy: 0.9762 - val_loss: 0.0698 - val_binary_accuracy: 0.9747\n",
            "Epoch 4/30\n",
            "9594/9594 [==============================] - 40s 4ms/step - loss: 0.0712 - binary_accuracy: 0.9775 - val_loss: 0.0557 - val_binary_accuracy: 0.9881\n",
            "Epoch 5/30\n",
            "9594/9594 [==============================] - 38s 4ms/step - loss: 0.0658 - binary_accuracy: 0.9797 - val_loss: 0.0690 - val_binary_accuracy: 0.9747\n",
            "Train Accuracy: 97.50\n",
            "Test Accuracy: 97.47\n"
          ]
        }
      ],
      "source": [
        "# Trains the model for a fixed number of epochs (iterations on a dataset).\n",
        "history = model.fit(x_train, y_train, batch_size=128, epochs=30, callbacks=[callback],\n",
        "                    validation_data=(x_test, y_test))\n",
        "\n",
        "# Returns the loss value & metrics values for the model in train mode.\n",
        "_, acc = model.evaluate(x_train, y_train, verbose=0)\n",
        "print(\"Train Accuracy: {:.2f}\".format(acc*100))\n",
        "\n",
        "# Returns the loss value & metrics values for the model in test mode.\n",
        "_, acc = model.evaluate(x_test, y_test, verbose=0)\n",
        "print(\"Test Accuracy: {:.2f}\".format(acc*100))\n",
        "\n",
        "tf.debugging.set_log_device_placement(True)"
      ]
    },
    {
      "cell_type": "markdown",
      "metadata": {
        "id": "hYNLW24VyjNk"
      },
      "source": [
        "# **Model Testing and Evaluation on Original Dataset**\n",
        "\n",
        "Tested the model performance unseen dataset. Then evaluate the performance using the following metrics: -\n",
        "\n",
        "1. Precision\n",
        "2. Recall\n",
        "3. F1-score\n",
        "4. Classification Report\n",
        "5. Confusion Matrix\n",
        "6. AUC (area under curve)"
      ]
    },
    {
      "cell_type": "code",
      "execution_count": 39,
      "metadata": {
        "id": "rI9Xipyh5vqN",
        "colab": {
          "base_uri": "https://localhost:8080/"
        },
        "outputId": "14f0a53f-4862-4b42-b008-bf842d5fd44f"
      },
      "outputs": [
        {
          "output_type": "stream",
          "name": "stdout",
          "text": [
            "8223/8223 [==============================] - 17s 2ms/step\n"
          ]
        }
      ],
      "source": [
        "# Generates output predictions for the x_test input sample.\n",
        "pred = model.predict(x_test, batch_size=64)"
      ]
    },
    {
      "cell_type": "code",
      "execution_count": 40,
      "metadata": {
        "id": "wOW6aphWzbbQ"
      },
      "outputs": [],
      "source": [
        "y_hat = [1 if i > 0.5 else 0 for i in pred]"
      ]
    },
    {
      "cell_type": "code",
      "execution_count": 41,
      "metadata": {
        "id": "CL6sm3zcw01J",
        "colab": {
          "base_uri": "https://localhost:8080/"
        },
        "outputId": "ad8050ac-ecb2-4373-ae38-4fb78a901298"
      },
      "outputs": [
        {
          "output_type": "stream",
          "name": "stdout",
          "text": [
            "Precision score: 0.86\n"
          ]
        }
      ],
      "source": [
        "# Compute the precision.\n",
        "\n",
        "# The precision is the ratio \"tp / (tp + fp)\" where \"tp\" is the number of\n",
        "# true positives and \"fp\" the number of false positives.\n",
        "\n",
        "print(\"Precision score: {:.2f}\".format(precision_score(y_test, y_hat)))"
      ]
    },
    {
      "cell_type": "code",
      "execution_count": 42,
      "metadata": {
        "id": "LEicaa4ow0Fl",
        "colab": {
          "base_uri": "https://localhost:8080/"
        },
        "outputId": "6dd65774-dd86-4a5f-f0db-d93512404137"
      },
      "outputs": [
        {
          "output_type": "stream",
          "name": "stdout",
          "text": [
            "Recall score: 0.97\n"
          ]
        }
      ],
      "source": [
        "# Compute the recall.\n",
        "\n",
        "# The recall is the ratio \"tp / (tp + fn)\" where \"tp\" is the number of\n",
        "# true positives and \"fn\" the number of false negatives.\n",
        "\n",
        "print(\"Recall score: {:.2f}\".format(recall_score(y_test, y_hat)))"
      ]
    },
    {
      "cell_type": "code",
      "execution_count": 43,
      "metadata": {
        "id": "9TcA31MD9rI-",
        "colab": {
          "base_uri": "https://localhost:8080/"
        },
        "outputId": "33d71f87-b03a-4473-da75-04bb73c62e6c"
      },
      "outputs": [
        {
          "output_type": "stream",
          "name": "stdout",
          "text": [
            "F1-score: 0.91\n"
          ]
        }
      ],
      "source": [
        "# Compute the F1 score, also known as balanced F-score or F-measure\n",
        "# The F1 score can be interpreted as a harmonic mean of the precision and\n",
        "# recall, where an F1 score reaches its best value at 1 and worst score at 0.\n",
        "\n",
        "print(\"F1-score: {:.2f}\".format(f1_score(y_test, y_hat)))"
      ]
    },
    {
      "cell_type": "code",
      "execution_count": 44,
      "metadata": {
        "id": "5PCihqx6yjNw",
        "colab": {
          "base_uri": "https://localhost:8080/"
        },
        "outputId": "b63eeb9e-00f3-4f52-a3e8-72df6bfcca29"
      },
      "outputs": [
        {
          "output_type": "stream",
          "name": "stdout",
          "text": [
            "Accuracy Score: 0.97\n"
          ]
        }
      ],
      "source": [
        "# Accuracy classification score.\n",
        "print(\"Accuracy Score: {:.2f}\".format(accuracy_score(y_test, y_hat)))"
      ]
    },
    {
      "cell_type": "code",
      "execution_count": 45,
      "metadata": {
        "id": "SLpdk8f5zbbR",
        "colab": {
          "base_uri": "https://localhost:8080/"
        },
        "outputId": "2330136f-baae-4951-b2c2-f57363465235"
      },
      "outputs": [
        {
          "output_type": "stream",
          "name": "stdout",
          "text": [
            "              precision    recall  f1-score   support\n",
            "\n",
            "           0       0.99      0.98      0.99    455456\n",
            "           1       0.86      0.97      0.91     70791\n",
            "\n",
            "    accuracy                           0.97    526247\n",
            "   macro avg       0.93      0.97      0.95    526247\n",
            "weighted avg       0.98      0.97      0.98    526247\n",
            "\n"
          ]
        }
      ],
      "source": [
        "# Build a text report showing the main classification metrics.\n",
        "print(classification_report(y_test, y_hat))"
      ]
    },
    {
      "cell_type": "code",
      "execution_count": 46,
      "metadata": {
        "id": "swnJumvjzbbU",
        "colab": {
          "base_uri": "https://localhost:8080/"
        },
        "outputId": "1234a2dd-81fe-4b8c-af38-b06a9e76e3cf"
      },
      "outputs": [
        {
          "output_type": "stream",
          "name": "stdout",
          "text": [
            "             Predicted: Yes  Predicted: No\n",
            "Actual: Yes          444552          10904\n",
            "Actual: No             2412          68379\n"
          ]
        }
      ],
      "source": [
        "# Compute confusion matrix to evaluate the accuracy of a classification.\n",
        "con_matrix = pd.DataFrame(confusion_matrix(y_test, y_hat),\n",
        "                          index=[\"Actual: Yes\", \"Actual: No\"],\n",
        "                          columns=(\"Predicted: Yes\", \"Predicted: No\"))\n",
        "print(con_matrix)"
      ]
    },
    {
      "cell_type": "code",
      "execution_count": 47,
      "metadata": {
        "id": "F4Vx--UGv18y",
        "colab": {
          "base_uri": "https://localhost:8080/"
        },
        "outputId": "ebcee6dc-6c18-4960-d26a-4ce585fac988"
      },
      "outputs": [
        {
          "output_type": "stream",
          "name": "stdout",
          "text": [
            "ROC AUC score: 0.9710\n"
          ]
        }
      ],
      "source": [
        "# Compute Area Under the Receiver Operating Characteristic Curve (ROC AUC) score for test data.\n",
        "print('ROC AUC score: {0:0.4f}'.format(roc_auc_score(y_test, y_hat)))"
      ]
    },
    {
      "cell_type": "code",
      "execution_count": 48,
      "metadata": {
        "id": "TfLA_wogyjN4",
        "colab": {
          "base_uri": "https://localhost:8080/",
          "height": 472
        },
        "outputId": "1ae3888b-579f-4c90-ab11-6c13c1b4b199"
      },
      "outputs": [
        {
          "output_type": "display_data",
          "data": {
            "text/plain": [
              "<Figure size 640x480 with 1 Axes>"
            ],
            "image/png": "[encoded data removed]"
          },
          "metadata": {}
        }
      ],
      "source": [
        "fpr, tpr, _ = roc_curve(y_test,  y_hat)\n",
        "auc = roc_auc_score(y_test, y_hat)\n",
        "plt.plot(fpr,tpr,label=\"AUC: {:0.3}\".format(auc))\n",
        "plt.title(\"AUC for Neural Network with Orignal Dataset.\")\n",
        "plt.xlabel('False Positive Rate')\n",
        "plt.ylabel('True Positive rate')\n",
        "plt.legend()\n",
        "plt.show()"
      ]
    },
    {
      "cell_type": "code",
      "execution_count": 49,
      "metadata": {
        "id": "LxxSI0OSzbbW",
        "colab": {
          "base_uri": "https://localhost:8080/",
          "height": 881
        },
        "outputId": "cfe603d1-19cb-4c9c-863e-272bb112e40c"
      },
      "outputs": [
        {
          "output_type": "display_data",
          "data": {
            "text/plain": [
              "<Figure size 640x480 with 1 Axes>"
            ],
            "image/png": "[encoded data removed]"
          },
          "metadata": {}
        },
        {
          "output_type": "display_data",
          "data": {
            "text/plain": [
              "<Figure size 640x480 with 1 Axes>"
            ],
            "image/png": "[encoded data removed]"
          },
          "metadata": {}
        }
      ],
      "source": [
        "# plotting model peformance\n",
        "def plot_graph(history, string):\n",
        "    plt.plot(history.history[string])\n",
        "    plt.plot(history.history[\"val_\"+string])\n",
        "    plt.xlabel(\"Epochs.\")\n",
        "    plt.ylabel(string)\n",
        "    plt.legend([string, \"val_\"+string])\n",
        "    plt.show()\n",
        "\n",
        "# Model Accuracy Performance\n",
        "plot_graph(history, \"binary_accuracy\")\n",
        "# Model Validation Performance\n",
        "plot_graph(history, \"loss\")"
      ]
    },
    {
      "cell_type": "markdown",
      "metadata": {
        "id": "nfG6IgrfyjN6"
      },
      "source": [
        "# **Model Development with the Over-sample Dataset**\n",
        "\n",
        "During the model training performance the following tasks:-\n",
        "\n",
        "1. Split dataset\n",
        "2. Removed outliers using the winsorizer library\n",
        "3. Over-sample data using SMOTEENN to handle class imbalance\n",
        "4. Scale data using standard scaler\n",
        "5. Train model\n",
        "6. Test and evaluate model"
      ]
    },
    {
      "cell_type": "markdown",
      "metadata": {
        "id": "tmB7f4GdyjN8"
      },
      "source": [
        "# **Splitting Dataset into Training and Testing Set**"
      ]
    },
    {
      "cell_type": "code",
      "execution_count": 50,
      "metadata": {
        "id": "F1aqcMykyjN8"
      },
      "outputs": [],
      "source": [
        "# Split arrays or matrices into random train and test subsets.\n",
        "xtrain, xtest, ytrain, ytest = train_test_split(x, y, stratify=y, test_size=0.3, random_state=52)"
      ]
    },
    {
      "cell_type": "code",
      "execution_count": 51,
      "metadata": {
        "id": "9fJ_Gb0NyjN9",
        "colab": {
          "base_uri": "https://localhost:8080/"
        },
        "outputId": "398f931a-2aad-4897-ce79-f5724ccea235"
      },
      "outputs": [
        {
          "output_type": "stream",
          "name": "stdout",
          "text": [
            "(1227908, 5)\n",
            "(526247, 5)\n",
            "(1227908,)\n",
            "(526247,)\n"
          ]
        }
      ],
      "source": [
        "# checking the spread of data\n",
        "print(xtrain.shape)\n",
        "print(xtest.shape)\n",
        "print(ytrain.shape)\n",
        "print(ytest.shape)"
      ]
    },
    {
      "cell_type": "code",
      "execution_count": 52,
      "metadata": {
        "id": "eNDZf73ZyjN_",
        "colab": {
          "base_uri": "https://localhost:8080/"
        },
        "outputId": "9fbdf02b-456f-4b69-9a5f-5904a4721d2e"
      },
      "outputs": [
        {
          "output_type": "stream",
          "name": "stdout",
          "text": [
            "(1227908, 5)\n",
            "         CUSTOMER_ID  TERMINAL_ID  TX_AMOUNT  TX_TIME_SECONDS  TX_TIME_DAYS\n",
            "145539          2411          181     278.41          1322302            15\n",
            "1595357         4819         6748     464.52         14382641           166\n",
            "1377501         3100         3162    1134.89         12408574           143\n",
            "689578           752         7061      95.13          6202371            71\n",
            "1731820         1528         1800     914.96         15603537           180\n",
            "...              ...          ...        ...              ...           ...\n",
            "786577          1534         6672     998.71          7092618            82\n",
            "1208948         3469         8413      94.05         10904933           126\n",
            "605317           742         2160     171.41          5463342            63\n",
            "376542          2314         5341     907.48          3398737            39\n",
            "510165          3393         7669     230.68          4602290            53\n",
            "\n",
            "[1227908 rows x 5 columns]\n"
          ]
        }
      ],
      "source": [
        "# checking the shape of the x_train\n",
        "print(xtrain.shape)\n",
        "# features that will be usd for training\n",
        "print(xtrain)"
      ]
    },
    {
      "cell_type": "code",
      "execution_count": 53,
      "metadata": {
        "id": "ZLO36gG4yjOA",
        "colab": {
          "base_uri": "https://localhost:8080/"
        },
        "outputId": "7a5f8fb3-6dc9-4cb1-bfc6-d593aff5001e"
      },
      "outputs": [
        {
          "output_type": "stream",
          "name": "stdout",
          "text": [
            "(526247, 5)\n",
            "         CUSTOMER_ID  TERMINAL_ID  TX_AMOUNT  TX_TIME_SECONDS  TX_TIME_DAYS\n",
            "1365858         2040         1094     807.95         12310504           142\n",
            "1233222         1168         6403      15.19         11109491           128\n",
            "926363           688         1036     835.92          8339539            96\n",
            "1025664         2490         2314     747.30          9234104           106\n",
            "1481708         3807          183     274.79         13354163           154\n",
            "...              ...          ...        ...              ...           ...\n",
            "1429378          584         1882     593.27         12893276           149\n",
            "891923          1220         6831    1295.72          8027465            92\n",
            "118074           521         5840    1267.63          1070909            12\n",
            "75168           2807          404     450.87           668849             7\n",
            "768873          2084         5454     268.04          6936316            80\n",
            "\n",
            "[526247 rows x 5 columns]\n"
          ]
        }
      ],
      "source": [
        "# checking the shape of the x_train\n",
        "print(xtest.shape)\n",
        "# features that will be usd for training\n",
        "print(xtest)"
      ]
    },
    {
      "cell_type": "code",
      "execution_count": 54,
      "metadata": {
        "id": "G6dttCBbyjOC",
        "colab": {
          "base_uri": "https://localhost:8080/"
        },
        "outputId": "a8a3b683-0975-49a0-ad08-6d9bf2dd8bbd"
      },
      "outputs": [
        {
          "output_type": "stream",
          "name": "stdout",
          "text": [
            "(1227908,)\n",
            "145539     0\n",
            "1595357    0\n",
            "1377501    1\n",
            "689578     0\n",
            "1731820    0\n",
            "          ..\n",
            "786577     0\n",
            "1208948    0\n",
            "605317     0\n",
            "376542     0\n",
            "510165     0\n",
            "Name: TX_FRAUD, Length: 1227908, dtype: int64\n"
          ]
        }
      ],
      "source": [
        "# checking the shape of the x_train\n",
        "print(ytrain.shape)\n",
        "# features that will be usd for training\n",
        "print(ytrain)"
      ]
    },
    {
      "cell_type": "code",
      "execution_count": 55,
      "metadata": {
        "id": "Xy5fFUkQyjOD",
        "colab": {
          "base_uri": "https://localhost:8080/"
        },
        "outputId": "5bbd9dfe-c304-4016-cd6d-313b2ce2fabf"
      },
      "outputs": [
        {
          "output_type": "stream",
          "name": "stdout",
          "text": [
            "(526247, 5)\n",
            "         CUSTOMER_ID  TERMINAL_ID  TX_AMOUNT  TX_TIME_SECONDS  TX_TIME_DAYS\n",
            "1365858         2040         1094     807.95         12310504           142\n",
            "1233222         1168         6403      15.19         11109491           128\n",
            "926363           688         1036     835.92          8339539            96\n",
            "1025664         2490         2314     747.30          9234104           106\n",
            "1481708         3807          183     274.79         13354163           154\n",
            "...              ...          ...        ...              ...           ...\n",
            "1429378          584         1882     593.27         12893276           149\n",
            "891923          1220         6831    1295.72          8027465            92\n",
            "118074           521         5840    1267.63          1070909            12\n",
            "75168           2807          404     450.87           668849             7\n",
            "768873          2084         5454     268.04          6936316            80\n",
            "\n",
            "[526247 rows x 5 columns]\n"
          ]
        }
      ],
      "source": [
        "# checking the shape of the x_train\n",
        "print(xtest.shape)\n",
        "# features that will be usd for training\n",
        "print(xtest)"
      ]
    },
    {
      "cell_type": "code",
      "execution_count": 56,
      "metadata": {
        "id": "2xHOF9imyjOG",
        "colab": {
          "base_uri": "https://localhost:8080/"
        },
        "outputId": "8206bf3f-0875-496c-d42d-d09f7a362da0"
      },
      "outputs": [
        {
          "output_type": "stream",
          "name": "stdout",
          "text": [
            "(526247,)\n",
            "1365858    0\n",
            "1233222    0\n",
            "926363     0\n",
            "1025664    0\n",
            "1481708    0\n",
            "          ..\n",
            "1429378    0\n",
            "891923     1\n",
            "118074     1\n",
            "75168      0\n",
            "768873     0\n",
            "Name: TX_FRAUD, Length: 526247, dtype: int64\n"
          ]
        }
      ],
      "source": [
        "# checking the shape of the x_train\n",
        "print(ytest.shape)\n",
        "# features that will be usd for training\n",
        "print(ytest)"
      ]
    },
    {
      "cell_type": "code",
      "execution_count": 57,
      "metadata": {
        "id": "g4Fi2y6kyjOI",
        "colab": {
          "base_uri": "https://localhost:8080/"
        },
        "outputId": "7db81629-83c1-4da5-f296-7b375c01f9d5"
      },
      "outputs": [
        {
          "output_type": "execute_result",
          "data": {
            "text/plain": [
              "Index(['CUSTOMER_ID', 'TERMINAL_ID', 'TX_AMOUNT', 'TX_TIME_SECONDS',\n",
              "       'TX_TIME_DAYS'],\n",
              "      dtype='object')"
            ]
          },
          "metadata": {},
          "execution_count": 57
        }
      ],
      "source": [
        "# lets select the numerical columns\n",
        "num_cols = xtrain.select_dtypes(include = np.number).columns\n",
        "\n",
        "num_cols"
      ]
    },
    {
      "cell_type": "code",
      "execution_count": 58,
      "metadata": {
        "id": "-yCadxoGyjOK",
        "colab": {
          "base_uri": "https://localhost:8080/",
          "height": 373
        },
        "outputId": "191e45dd-19cc-463d-b2b1-6f54bd778a51"
      },
      "outputs": [
        {
          "output_type": "display_data",
          "data": {
            "text/plain": [
              "<Figure size 800x600 with 5 Axes>"
            ],
            "image/png": "[encoded data removed]"
          },
          "metadata": {}
        }
      ],
      "source": [
        "# plotting the features to display features with outliers.\n",
        "# from the diagram below we can see that the amount and the fraud screnario columns have outliers.\n",
        "\n",
        "plt.figure(figsize = [8,6])\n",
        "\n",
        "for ind,col_name in enumerate(num_cols):\n",
        "  plot_var = xtrain[col_name]\n",
        "  plt.subplot(3, 4,ind+1)\n",
        "  sns.boxplot(plot_var)\n",
        "  plt.title(col_name)\n",
        "  plt.axis(False)"
      ]
    },
    {
      "cell_type": "markdown",
      "metadata": {
        "id": "mT8dGwgUyjOL"
      },
      "source": [
        "**Making use of the Winsorizer library imported from feature_engineer to treat outliers**"
      ]
    },
    {
      "cell_type": "code",
      "execution_count": 59,
      "metadata": {
        "id": "Mu7H8MzEyjON"
      },
      "outputs": [],
      "source": [
        "# variables to be handled with the outlier\n",
        "variables = ['TX_AMOUNT']\n",
        "# choosing the IQR method with fold = 1.5 time of IQR\n",
        "capper_iqr = Winsorizer(capping_method = 'iqr', tail = 'both', fold = 1.5, variables = variables)\n",
        "\n",
        "# configure the winsorizer to make use of inter-quantile-range to treate outlier.\n",
        " # right tail: 75th quantile + 3* IQR\n",
        " # left tail:  25th quantile - 3* IQR\n",
        "\n",
        "# where IQR is the inter-quartile range: 75th quantile - 25th quantile."
      ]
    },
    {
      "cell_type": "code",
      "execution_count": 60,
      "metadata": {
        "id": "71il8vYzyjOO"
      },
      "outputs": [],
      "source": [
        "# Fit to data, then transform it.\n",
        "xtrain = capper_iqr.fit_transform(xtrain)\n",
        "# tranforming the test X\n",
        "xtest = capper_iqr.transform(xtest)"
      ]
    },
    {
      "cell_type": "code",
      "execution_count": 61,
      "metadata": {
        "id": "hB8wzwB1yjOQ",
        "colab": {
          "base_uri": "https://localhost:8080/",
          "height": 373
        },
        "outputId": "903e5802-e191-4312-c469-11d73bb167fa"
      },
      "outputs": [
        {
          "output_type": "display_data",
          "data": {
            "text/plain": [
              "<Figure size 800x600 with 5 Axes>"
            ],
            "image/png": "[encoded data removed]"
          },
          "metadata": {}
        }
      ],
      "source": [
        "# displaying variables after handling the outlier.\n",
        "# from the diagram we can see we do not have variable with outliers present in the dataset.\n",
        "\n",
        "plt.figure(figsize = [8,6])\n",
        "\n",
        "for ind,col_name in enumerate(num_cols):\n",
        "  plot_var = xtrain[col_name]\n",
        "  plt.subplot(3, 4,ind+1)\n",
        "  sns.boxplot(plot_var)\n",
        "  plt.title(col_name)\n",
        "  plt.axis(False)"
      ]
    },
    {
      "cell_type": "markdown",
      "metadata": {
        "id": "acZxrBRLyjOS"
      },
      "source": [
        "**Using Imblearn Library to Handle Data Imbalance present in the Dataset.**\n",
        "\n",
        "Use the Synthetic Minority Oversampling Technique Edited Nearest Neighbours (SMOTEENN) which is a statistical technique for increasing the number of cases in your dataset in a balanced way."
      ]
    },
    {
      "cell_type": "code",
      "execution_count": 62,
      "metadata": {
        "id": "0wQjzPM2yjOT",
        "colab": {
          "base_uri": "https://localhost:8080/"
        },
        "outputId": "8c18a9b7-fc92-404d-a366-78638c0dd1fb"
      },
      "outputs": [
        {
          "output_type": "stream",
          "name": "stdout",
          "text": [
            "Before Sampling: Counter({0: 1062730, 1: 165178})\n",
            "After Sampling: Counter({1: 1100017, 0: 1062730})\n"
          ]
        }
      ],
      "source": [
        "# outputing y value before over sampling.\n",
        "counter = Counter(ytrain)\n",
        "print(\"Before Sampling: {}\".format(counter))\n",
        "\n",
        "# Oversample using Adaptive Synthetic (ADASYN) algorithm.\n",
        "sm = ADASYN()\n",
        "# esample the dataset.\n",
        "xtrain_sm, ytrain_sm = sm.fit_resample(xtrain, ytrain)\n",
        "\n",
        "# outputing y value after over sampling.\n",
        "counter = Counter(ytrain_sm)\n",
        "print(\"After Sampling: {}\".format(counter))"
      ]
    },
    {
      "cell_type": "markdown",
      "metadata": {
        "id": "J2uAzp2UyjOW"
      },
      "source": [
        "**Feature Scaling**"
      ]
    },
    {
      "cell_type": "code",
      "execution_count": 63,
      "metadata": {
        "id": "dtGTQSPvyjOX"
      },
      "outputs": [],
      "source": [
        "# Transform features by scaling each feature to a given range.\n",
        "mn = MinMaxScaler()\n",
        "\n",
        "# Fit to data, then transform it. the training datasets\n",
        "xtrain_sm = mn.fit_transform(xtrain_sm)\n",
        "# Perform standardization by centering and scaling on the testing datasets\n",
        "xtest = mn.transform(xtest)"
      ]
    },
    {
      "cell_type": "markdown",
      "metadata": {
        "id": "BDssl03syjOZ"
      },
      "source": [
        "**Model Development**\n",
        "\n",
        "TensorFlow is an open-sourced end-to-end platform, a library for multiple machine learning tasks,\n",
        "while Keras is a high-level neural network library that runs on top of TensorFlow"
      ]
    },
    {
      "cell_type": "code",
      "execution_count": 64,
      "metadata": {
        "id": "BBYOG187yjOa"
      },
      "outputs": [],
      "source": [
        "# building keras model\n",
        "def build_model():\n",
        "    # Sequential groups a linear stack of layers\n",
        "    model = Sequential([\n",
        "        Dense(32, activation=\"relu\", input_shape=(5,)),\n",
        "        Dropout(0.1),\n",
        "        Dense(64, activation=\"relu\"),\n",
        "        Dropout(0.2),\n",
        "        Dense(256, activation=\"relu\"),\n",
        "        Dropout(0.3),\n",
        "        Dense(128, activation=\"relu\"),\n",
        "        Dropout(0.2),\n",
        "        Dense(1, activation=\"sigmoid\")\n",
        "    ])\n",
        "    return model\n",
        "model = build_model()"
      ]
    },
    {
      "cell_type": "code",
      "execution_count": 65,
      "metadata": {
        "id": "VD6osWOryjOb",
        "colab": {
          "base_uri": "https://localhost:8080/"
        },
        "outputId": "ff837c85-eea7-4c4d-cced-b9fcaadf7f8e"
      },
      "outputs": [
        {
          "output_type": "stream",
          "name": "stdout",
          "text": [
            "Model: \"sequential_1\"\n",
            "_________________________________________________________________\n",
            " Layer (type)                Output Shape              Param #   \n",
            "=================================================================\n",
            " dense_4 (Dense)             (None, 32)                192       \n",
            "                                                                 \n",
            " dropout (Dropout)           (None, 32)                0         \n",
            "                                                                 \n",
            " dense_5 (Dense)             (None, 64)                2112      \n",
            "                                                                 \n",
            " dropout_1 (Dropout)         (None, 64)                0         \n",
            "                                                                 \n",
            " dense_6 (Dense)             (None, 256)               16640     \n",
            "                                                                 \n",
            " dropout_2 (Dropout)         (None, 256)               0         \n",
            "                                                                 \n",
            " dense_7 (Dense)             (None, 128)               32896     \n",
            "                                                                 \n",
            " dropout_3 (Dropout)         (None, 128)               0         \n",
            "                                                                 \n",
            " dense_8 (Dense)             (None, 1)                 129       \n",
            "                                                                 \n",
            "=================================================================\n",
            "Total params: 51969 (203.00 KB)\n",
            "Trainable params: 51969 (203.00 KB)\n",
            "Non-trainable params: 0 (0.00 Byte)\n",
            "_________________________________________________________________\n"
          ]
        }
      ],
      "source": [
        "# Prints a string summary of the network.\n",
        "model.summary()"
      ]
    },
    {
      "cell_type": "code",
      "execution_count": 66,
      "metadata": {
        "id": "9G3FaOTJyjOd"
      },
      "outputs": [],
      "source": [
        "# Configures the model for training.\n",
        "model.compile(\n",
        " # Gradient descent (with momentum) optimizer.\n",
        "optimizer=Adam(learning_rate=0.001),\n",
        "# Computes the cross-entropy loss between true labels and predicted labels.\n",
        "loss=BinaryCrossentropy(),\n",
        "# Calculates how often predictions match binary labels.\n",
        "metrics=[BinaryAccuracy()],\n",
        "# number of batches to run during each call\n",
        "steps_per_execution=32\n",
        ")"
      ]
    },
    {
      "cell_type": "code",
      "execution_count": 67,
      "metadata": {
        "id": "4EvVF5j7yjOe"
      },
      "outputs": [],
      "source": [
        "# Stop training when a monitored metric has stopped improving.\n",
        "callback = EarlyStopping(monitor='val_loss', patience=5)"
      ]
    },
    {
      "cell_type": "code",
      "execution_count": 68,
      "metadata": {
        "id": "BFDlHbrKyjOe",
        "colab": {
          "base_uri": "https://localhost:8080/"
        },
        "outputId": "b7db5892-dec4-4055-deb3-8869ab5e40b8"
      },
      "outputs": [
        {
          "output_type": "stream",
          "name": "stdout",
          "text": [
            "Epoch 1/50\n",
            "16/16 [==============================] - 7s 441ms/step - loss: 0.6405 - binary_accuracy: 0.5615 - val_loss: 0.6591 - val_binary_accuracy: 0.6226\n",
            "Epoch 2/50\n",
            "16/16 [==============================] - 10s 651ms/step - loss: 0.4592 - binary_accuracy: 0.8218 - val_loss: 0.3598 - val_binary_accuracy: 0.8548\n",
            "Epoch 3/50\n",
            "16/16 [==============================] - 5s 326ms/step - loss: 0.2982 - binary_accuracy: 0.8867 - val_loss: 0.2097 - val_binary_accuracy: 0.9133\n",
            "Epoch 4/50\n",
            "16/16 [==============================] - 5s 341ms/step - loss: 0.2241 - binary_accuracy: 0.9116 - val_loss: 0.1952 - val_binary_accuracy: 0.9147\n",
            "Epoch 5/50\n",
            "16/16 [==============================] - 4s 270ms/step - loss: 0.2282 - binary_accuracy: 0.9102 - val_loss: 0.2917 - val_binary_accuracy: 0.8762\n",
            "Epoch 6/50\n",
            "16/16 [==============================] - 4s 239ms/step - loss: 0.2101 - binary_accuracy: 0.9194 - val_loss: 0.1605 - val_binary_accuracy: 0.9348\n",
            "Epoch 7/50\n",
            "16/16 [==============================] - 5s 327ms/step - loss: 0.1859 - binary_accuracy: 0.9355 - val_loss: 0.1186 - val_binary_accuracy: 0.9581\n",
            "Epoch 8/50\n",
            "16/16 [==============================] - 5s 333ms/step - loss: 0.1741 - binary_accuracy: 0.9390 - val_loss: 0.0937 - val_binary_accuracy: 0.9730\n",
            "Epoch 9/50\n",
            "16/16 [==============================] - 4s 228ms/step - loss: 0.1781 - binary_accuracy: 0.9341 - val_loss: 0.0971 - val_binary_accuracy: 0.9732\n",
            "Epoch 10/50\n",
            "16/16 [==============================] - 4s 233ms/step - loss: 0.1761 - binary_accuracy: 0.9424 - val_loss: 0.1175 - val_binary_accuracy: 0.9631\n",
            "Epoch 11/50\n",
            "16/16 [==============================] - 6s 350ms/step - loss: 0.1427 - binary_accuracy: 0.9492 - val_loss: 0.1214 - val_binary_accuracy: 0.9529\n",
            "Epoch 12/50\n",
            "16/16 [==============================] - 4s 257ms/step - loss: 0.1764 - binary_accuracy: 0.9375 - val_loss: 0.1006 - val_binary_accuracy: 0.9704\n",
            "Epoch 13/50\n",
            "16/16 [==============================] - 4s 249ms/step - loss: 0.1373 - binary_accuracy: 0.9536 - val_loss: 0.0802 - val_binary_accuracy: 0.9810\n",
            "Epoch 14/50\n",
            "16/16 [==============================] - 5s 327ms/step - loss: 0.1502 - binary_accuracy: 0.9497 - val_loss: 0.0904 - val_binary_accuracy: 0.9737\n",
            "Epoch 15/50\n",
            "16/16 [==============================] - 5s 331ms/step - loss: 0.1454 - binary_accuracy: 0.9502 - val_loss: 0.0734 - val_binary_accuracy: 0.9858\n",
            "Epoch 16/50\n",
            "16/16 [==============================] - 5s 326ms/step - loss: 0.1508 - binary_accuracy: 0.9443 - val_loss: 0.0800 - val_binary_accuracy: 0.9806\n",
            "Epoch 17/50\n",
            "16/16 [==============================] - 4s 258ms/step - loss: 0.1519 - binary_accuracy: 0.9507 - val_loss: 0.0891 - val_binary_accuracy: 0.9779\n",
            "Epoch 18/50\n",
            "16/16 [==============================] - 10s 651ms/step - loss: 0.1186 - binary_accuracy: 0.9648 - val_loss: 0.0661 - val_binary_accuracy: 0.9853\n",
            "Epoch 19/50\n",
            "16/16 [==============================] - 10s 646ms/step - loss: 0.1532 - binary_accuracy: 0.9468 - val_loss: 0.0718 - val_binary_accuracy: 0.9859\n",
            "Epoch 20/50\n",
            "16/16 [==============================] - 4s 223ms/step - loss: 0.1285 - binary_accuracy: 0.9585 - val_loss: 0.0721 - val_binary_accuracy: 0.9869\n",
            "Epoch 21/50\n",
            "16/16 [==============================] - 5s 326ms/step - loss: 0.1417 - binary_accuracy: 0.9487 - val_loss: 0.0711 - val_binary_accuracy: 0.9877\n",
            "Epoch 22/50\n",
            "16/16 [==============================] - 10s 646ms/step - loss: 0.1433 - binary_accuracy: 0.9565 - val_loss: 0.0830 - val_binary_accuracy: 0.9826\n",
            "Epoch 23/50\n",
            "16/16 [==============================] - 5s 326ms/step - loss: 0.1297 - binary_accuracy: 0.9565 - val_loss: 0.0833 - val_binary_accuracy: 0.9805\n",
            "Train Accuracy: 96.80\n",
            "Test Accuracy: 98.05\n"
          ]
        }
      ],
      "source": [
        "# Trains the model for a fixed number of epochs (iterations on a dataset).\n",
        "history = model.fit(xtrain_sm, ytrain_sm, batch_size=128, epochs=50, callbacks=[callback],\n",
        "                    validation_data=(xtest, ytest), steps_per_epoch=16)\n",
        "\n",
        "# Returns the loss value & metrics values for the model in train mode.\n",
        "_, acc = model.evaluate(xtrain_sm, ytrain_sm, verbose=0)\n",
        "print(\"Train Accuracy: {:.2f}\".format(acc*100))\n",
        "\n",
        "# Returns the loss value & metrics values for the model in test mode.\n",
        "_, acc = model.evaluate(xtest, ytest, verbose=0)\n",
        "print(\"Test Accuracy: {:.2f}\".format(acc*100))\n",
        "\n",
        "tf.debugging.set_log_device_placement(True)"
      ]
    },
    {
      "cell_type": "markdown",
      "metadata": {
        "id": "mfUiAgzsyjOf"
      },
      "source": [
        "# **Model Testing and Evaluation on Original Dataset**\n",
        "\n",
        "Tested the model performance unseen dataset. Then evaluate the performance using the following metrics: -\n",
        "\n",
        "1. Precision\n",
        "2. Recall\n",
        "3. F1-score\n",
        "4. Classification Report\n",
        "5. Confusion Matrix\n",
        "6. AUC (area under curve)"
      ]
    },
    {
      "cell_type": "code",
      "execution_count": 69,
      "metadata": {
        "id": "X6roHCudyjOg",
        "colab": {
          "base_uri": "https://localhost:8080/"
        },
        "outputId": "a25bc12e-7ef9-441e-fa87-15e9a8dcb853"
      },
      "outputs": [
        {
          "output_type": "stream",
          "name": "stdout",
          "text": [
            "8223/8223 [==============================] - 7s 871us/step\n"
          ]
        }
      ],
      "source": [
        "# Generates output predictions for the x_test input sample.\n",
        "prediction = model.predict(xtest, batch_size=64)"
      ]
    },
    {
      "cell_type": "code",
      "execution_count": 70,
      "metadata": {
        "id": "zk-zknv8yjOh"
      },
      "outputs": [],
      "source": [
        "y_pred = [1 if i > 0.5 else 0 for i in prediction]"
      ]
    },
    {
      "cell_type": "code",
      "execution_count": 71,
      "metadata": {
        "id": "kp1sDliIyjOi",
        "colab": {
          "base_uri": "https://localhost:8080/"
        },
        "outputId": "fa0b93d2-4a46-42df-a611-a2b75284947a"
      },
      "outputs": [
        {
          "output_type": "stream",
          "name": "stdout",
          "text": [
            "Precision score: 0.90\n"
          ]
        }
      ],
      "source": [
        "# Compute the precision.\n",
        "\n",
        "# The precision is the ratio \"tp / (tp + fp)\" where \"tp\" is the number of\n",
        "# true positives and \"fp\" the number of false positives.\n",
        "\n",
        "print(\"Precision score: {:.2f}\".format(precision_score(ytest, y_pred)))"
      ]
    },
    {
      "cell_type": "code",
      "execution_count": 72,
      "metadata": {
        "id": "bBx7p0uqyjOn",
        "colab": {
          "base_uri": "https://localhost:8080/"
        },
        "outputId": "7c9d7eb8-01f5-4c0a-a80d-590a250fda8e"
      },
      "outputs": [
        {
          "output_type": "stream",
          "name": "stdout",
          "text": [
            "Recall score: 0.96\n"
          ]
        }
      ],
      "source": [
        "# Compute the recall.\n",
        "\n",
        "# The recall is the ratio \"tp / (tp + fn)\" where \"tp\" is the number of\n",
        "# true positives and \"fn\" the number of false negatives.\n",
        "\n",
        "print(\"Recall score: {:.2f}\".format(recall_score(ytest, y_pred)))"
      ]
    },
    {
      "cell_type": "code",
      "execution_count": 73,
      "metadata": {
        "id": "fPhQed4iyjOp",
        "colab": {
          "base_uri": "https://localhost:8080/"
        },
        "outputId": "ba7e26be-05b8-4792-bd3a-4b02a0f0822c"
      },
      "outputs": [
        {
          "output_type": "stream",
          "name": "stdout",
          "text": [
            "F1-score: 0.93\n"
          ]
        }
      ],
      "source": [
        "# Compute the F1 score, also known as balanced F-score or F-measure\n",
        "# The F1 score can be interpreted as a harmonic mean of the precision and\n",
        "# recall, where an F1 score reaches its best value at 1 and worst score at 0.\n",
        "\n",
        "print(\"F1-score: {:.2f}\".format(f1_score(ytest, y_pred)))"
      ]
    },
    {
      "cell_type": "code",
      "execution_count": 74,
      "metadata": {
        "id": "T1rQJofOyjOq",
        "colab": {
          "base_uri": "https://localhost:8080/"
        },
        "outputId": "2ed92039-e048-4579-8e4b-367a6cc6cb59"
      },
      "outputs": [
        {
          "output_type": "stream",
          "name": "stdout",
          "text": [
            "Accuracy Score: 0.98\n"
          ]
        }
      ],
      "source": [
        "# Accuracy classification score.\n",
        "print(\"Accuracy Score: {:.2f}\".format(accuracy_score(ytest, y_pred)))"
      ]
    },
    {
      "cell_type": "code",
      "execution_count": 75,
      "metadata": {
        "id": "K6W2ToetyjOr",
        "colab": {
          "base_uri": "https://localhost:8080/"
        },
        "outputId": "16cd02be-8a43-4e47-c322-a48005d0d11d"
      },
      "outputs": [
        {
          "output_type": "stream",
          "name": "stdout",
          "text": [
            "              precision    recall  f1-score   support\n",
            "\n",
            "           0       0.99      0.98      0.99    455456\n",
            "           1       0.90      0.96      0.93     70791\n",
            "\n",
            "    accuracy                           0.98    526247\n",
            "   macro avg       0.95      0.97      0.96    526247\n",
            "weighted avg       0.98      0.98      0.98    526247\n",
            "\n"
          ]
        }
      ],
      "source": [
        "# Build a text report showing the main classification metrics.\n",
        "print(classification_report(ytest, y_pred))"
      ]
    },
    {
      "cell_type": "code",
      "execution_count": 76,
      "metadata": {
        "id": "ZVbWuCTjyjOs",
        "colab": {
          "base_uri": "https://localhost:8080/"
        },
        "outputId": "c3361ed8-68a2-4587-cce6-bcc487262b08"
      },
      "outputs": [
        {
          "output_type": "stream",
          "name": "stdout",
          "text": [
            "             Predicted: Yes  Predicted: No\n",
            "Actual: Yes          448037           7419\n",
            "Actual: No             2827          67964\n"
          ]
        }
      ],
      "source": [
        "# Compute confusion matrix to evaluate the accuracy of a classification.\n",
        "con_matrix = pd.DataFrame(confusion_matrix(ytest, y_pred),\n",
        "                          index=[\"Actual: Yes\", \"Actual: No\"],\n",
        "                          columns=(\"Predicted: Yes\", \"Predicted: No\"))\n",
        "print(con_matrix)"
      ]
    },
    {
      "cell_type": "code",
      "execution_count": 77,
      "metadata": {
        "id": "6fSUs5P5yjOu",
        "colab": {
          "base_uri": "https://localhost:8080/"
        },
        "outputId": "f0f28a01-1499-4502-e18e-27232c6c154d"
      },
      "outputs": [
        {
          "output_type": "stream",
          "name": "stdout",
          "text": [
            "ROC AUC score: 0.97\n"
          ]
        }
      ],
      "source": [
        "# Compute Area Under the Receiver Operating Characteristic Curve (ROC AUC) score for test data.\n",
        "print('ROC AUC score: {:.2f}'.format(roc_auc_score(ytest, y_pred)))"
      ]
    },
    {
      "cell_type": "code",
      "execution_count": 78,
      "metadata": {
        "id": "xLGHpUXPyjOu",
        "colab": {
          "base_uri": "https://localhost:8080/",
          "height": 472
        },
        "outputId": "1a265778-4091-48f0-e438-4cfb361ce7ea"
      },
      "outputs": [
        {
          "output_type": "display_data",
          "data": {
            "text/plain": [
              "<Figure size 640x480 with 1 Axes>"
            ],
            "image/png": "[encoded data removed]"
          },
          "metadata": {}
        }
      ],
      "source": [
        "fpr, tpr, _ = roc_curve(y_test,  y_pred)\n",
        "auc = roc_auc_score(y_test, y_pred)\n",
        "plt.plot(fpr,tpr,label=\"AUC: {:0.2}\".format(auc))\n",
        "plt.title('AUC for Neural Networks with Over-sample Dataset.')\n",
        "plt.xlabel('False Positive Rate')\n",
        "plt.ylabel('True Positive rate')\n",
        "plt.legend()\n",
        "plt.show()"
      ]
    },
    {
      "cell_type": "code",
      "execution_count": 79,
      "metadata": {
        "id": "q6EZmR0ZyjOw",
        "colab": {
          "base_uri": "https://localhost:8080/",
          "height": 881
        },
        "outputId": "05487d57-a774-4a0e-e363-135cd434055f"
      },
      "outputs": [
        {
          "output_type": "display_data",
          "data": {
            "text/plain": [
              "<Figure size 640x480 with 1 Axes>"
            ],
            "image/png": "[encoded data removed]"
          },
          "metadata": {}
        },
        {
          "output_type": "display_data",
          "data": {
            "text/plain": [
              "<Figure size 640x480 with 1 Axes>"
            ],
            "image/png": "[encoded data removed]"
          },
          "metadata": {}
        }
      ],
      "source": [
        "# plotting model peformance\n",
        "def plot_graph(history, string):\n",
        "    plt.plot(history.history[string])\n",
        "    plt.plot(history.history[\"val_\"+string])\n",
        "    plt.xlabel(\"Epochs.\")\n",
        "    plt.ylabel(string)\n",
        "    plt.legend([string, \"val_\"+string])\n",
        "    plt.show()\n",
        "\n",
        "# Model Accuracy Performance\n",
        "plot_graph(history, \"binary_accuracy\")\n",
        "# Model Validation Performance\n",
        "plot_graph(history, \"loss\")"
      ]
    },
    {
      "cell_type": "markdown",
      "metadata": {
        "id": "ocH8qdDryjO0"
      },
      "source": [
        "**Calculating Number of True Prediction and Wrong Prediction**"
      ]
    },
    {
      "cell_type": "code",
      "execution_count": 80,
      "metadata": {
        "id": "Obsoqhp_yjO2",
        "colab": {
          "base_uri": "https://localhost:8080/"
        },
        "outputId": "e4daf949-2db5-4942-f075-13684761cb66"
      },
      "outputs": [
        {
          "output_type": "stream",
          "name": "stdout",
          "text": [
            "Number of correct classifications : 516001.\n",
            "Number of wrong classifications : 10246.\n",
            "Classification accuracy : 98.05300552782249.\n"
          ]
        }
      ],
      "source": [
        "import numpy\n",
        "\n",
        "# Calculating the number of true prediction and wrong prediction\n",
        "num_wrong = numpy.where(y_pred != y_test)[0]\n",
        "num_correct = y_test.size - num_wrong.size\n",
        "accuracy = 100 * (num_correct/y_test.size)\n",
        "\n",
        "print(\"Number of correct classifications : {num_correct}.\".format(num_correct=num_correct))\n",
        "print(\"Number of wrong classifications : {num_wrong}.\".format(num_wrong=num_wrong.size))\n",
        "print(\"Classification accuracy : {accuracy}.\".format(accuracy=accuracy))"
      ]
    },
    {
      "cell_type": "markdown",
      "metadata": {
        "id": "H9ar5fbkzbbY"
      },
      "source": [
        "# **Genetics Algorithm and Neural Network.**\n",
        "\n",
        "**Using the PyGad library which we used to build genetics algorithm, it also provide support for tensorflow keras.**\n",
        "\n",
        "**The following steps were perform:**\n",
        "\n",
        "1. Prepare the training data.\n",
        "2. Create an instance GANN.\n",
        "3. Prepare the fitness function.\n",
        "4. Prepare the callback function.\n",
        "5. Run the genetic algorithm."
      ]
    },
    {
      "cell_type": "markdown",
      "metadata": {
        "id": "42IXqaugyjO7"
      },
      "source": [
        "**Preparing the training data**"
      ]
    },
    {
      "cell_type": "code",
      "execution_count": 81,
      "metadata": {
        "id": "Ej-qJhT9zbbb",
        "colab": {
          "base_uri": "https://localhost:8080/"
        },
        "outputId": "7bd87d4b-cdb9-4ede-8791-e17eb0848216"
      },
      "outputs": [
        {
          "output_type": "stream",
          "name": "stdout",
          "text": [
            "(2162747, 5)\n",
            "(2162747,)\n"
          ]
        }
      ],
      "source": [
        "# assign x_train to data_input\n",
        "data_input = xtrain_sm\n",
        "# assign y_train to data_output\n",
        "\n",
        "data_output = ytrain_sm\n",
        "print(data_input.shape)\n",
        "print(data_output.shape)"
      ]
    },
    {
      "cell_type": "markdown",
      "metadata": {
        "id": "yMbVg_TnyjO9"
      },
      "source": [
        "**Creating GANN class for training a neural network using the genetic**"
      ]
    },
    {
      "cell_type": "code",
      "execution_count": 82,
      "metadata": {
        "id": "igwQeTZyyjO-"
      },
      "outputs": [],
      "source": [
        "# Creating GANN class for training a neural network using the genetic\n",
        "GANN_instance = gann.GANN(num_solutions=10,\n",
        "                          num_neurons_input=data_input.shape[1],\n",
        "                          num_neurons_hidden_layers=[32, 64, 128],\n",
        "                          num_neurons_output=2,\n",
        "                          hidden_activations=['relu', 'relu', 'relu'],\n",
        "                          output_activation='sigmoid')\n",
        "\n",
        "# An input layer with 5 neurons (i.e. total number of features)\n",
        "# With two hidden layer for 32 and 64 neurons.\n",
        "# An output layer with 2 neurons (i.e. fraudulent or non-fraudulent).\n",
        "\n",
        "\n",
        "\n",
        "# Accepts the population as networks and returns a list holding all weights of the\n",
        "# layers of each solution (i.e. network) in the population as a vector.\n",
        "population_vectors = gann.population_as_vectors(population_networks=GANN_instance.population_networks)"
      ]
    },
    {
      "cell_type": "markdown",
      "metadata": {
        "id": "Q6hQBOqhyjO-"
      },
      "source": [
        "**Preparing fitness function**"
      ]
    },
    {
      "cell_type": "code",
      "execution_count": 83,
      "metadata": {
        "id": "znbxa1JJyjO_"
      },
      "outputs": [],
      "source": [
        "import numpy\n",
        "# creating fitness function\n",
        "def FitnessFunction(ga_instance, solution, sol_idx):\n",
        "    global GANN_instance, data_input, data_output\n",
        "\n",
        "    prediction = nn.predict(last_layer=GANN_instance.population_networks[sol_idx],\n",
        "                            data_inputs=data_input)\n",
        "\n",
        "    correct_prediction = numpy.where(prediction == data_output)[0].size\n",
        "    solution_fitness = (correct_prediction/data_output.size)*100\n",
        "\n",
        "    return solution_fitness\n",
        "\n",
        "# The fitness function must return a single number representing the fitness.\n",
        "# The higher the fitness value, the better the solution."
      ]
    },
    {
      "cell_type": "markdown",
      "metadata": {
        "id": "D2TaTQ6uyjPA"
      },
      "source": [
        "**Creating callback function**"
      ]
    },
    {
      "cell_type": "code",
      "execution_count": 84,
      "metadata": {
        "id": "uu1ZMQHk6ZsB"
      },
      "outputs": [],
      "source": [
        "# callback function is used to update the trained_weights attribute of layers of each network in the population.\n",
        "def CallbackGeneration(ga_instance):\n",
        "    global GANN_instance\n",
        "\n",
        "    population_matrices = gann.population_as_matrices(population_networks=GANN_instance.population_networks,\n",
        "                                                      population_vectors=ga_instance.population)\n",
        "\n",
        "    GANN_instance.update_population_trained_weights(population_trained_weights=population_matrices)\n",
        "\n",
        "    print(\"Generation = {generation}\".format(generation=ga_instance.generations_completed))\n",
        "    print(\"Fitness = {fitness}\".format(fitness=ga_instance.best_solution()[1]))"
      ]
    },
    {
      "cell_type": "markdown",
      "metadata": {
        "id": "i6hkDs1iyjPD"
      },
      "source": [
        "**Preparing the parameters required to create an instance of the GA class.**"
      ]
    },
    {
      "cell_type": "code",
      "execution_count": 85,
      "metadata": {
        "id": "gpbnP5KgyjPE"
      },
      "outputs": [],
      "source": [
        "# Configuring the parameters required to create an instance of the GA class.\n",
        "ga_instance = GA(num_generations = 15,\n",
        "                 num_parents_mating = 4,\n",
        "                 fitness_func = FitnessFunction,\n",
        "                 initial_population = population_vectors.copy(),\n",
        "                 init_range_low = -2,\n",
        "                 init_range_high = 5,\n",
        "                 parent_selection_type = 'sss',\n",
        "                 keep_parents = 1,\n",
        "                 crossover_probability = 1,\n",
        "                 crossover_type = \"single_point\",\n",
        "                 mutation_type = \"scramble\",\n",
        "                 mutation_percent_genes = 5,\n",
        "                 on_generation = CallbackGeneration)"
      ]
    },
    {
      "cell_type": "code",
      "execution_count": null,
      "metadata": {
        "id": "Ay01_2wYzbba",
        "colab": {
          "base_uri": "https://localhost:8080/"
        },
        "outputId": "0a489722-593a-4950-8973-97ba97f0469b"
      },
      "outputs": [
        {
          "output_type": "stream",
          "name": "stdout",
          "text": [
            "Generation = 2\n"
          ]
        }
      ],
      "source": [
        "# Runs the genetic algorithm\n",
        "ga_instance.run()"
      ]
    },
    {
      "cell_type": "code",
      "execution_count": null,
      "metadata": {
        "id": "hkPVAbHJzbbk"
      },
      "outputs": [],
      "source": [
        "# Creates, shows, and returns a figure that summarizes how the fitness value evolved by generation\n",
        "ga_instance.plot_fitness()"
      ]
    },
    {
      "cell_type": "markdown",
      "metadata": {
        "id": "RXd99ofGyjPK"
      },
      "source": [
        "**Returning the details of the best solution.**"
      ]
    },
    {
      "cell_type": "code",
      "execution_count": null,
      "metadata": {
        "id": "1uUmOrhczbbn"
      },
      "outputs": [],
      "source": [
        "# Returning the details of the best solution.\n",
        "solution, solution_fitness, solution_idx = ga_instance.best_solution()\n",
        "print(\"Parameter of the best solution : {solution}\".format(solution=solution))\n",
        "print(\"Fitness value of the best solution = {solution_fitness}\".format(solution_fitness=solution_fitness))\n",
        "print(\"Index of the best solution : {solution_idx}\".format(solution_idx=solution_idx))"
      ]
    },
    {
      "cell_type": "code",
      "execution_count": null,
      "metadata": {
        "id": "uT6i7m0MWNGN"
      },
      "outputs": [],
      "source": [
        "# Predicting the outputs of the data using the best solution.\n",
        "prediction = nn.predict(last_layer=GANN_instance.population_networks[solution_idx], data_inputs=data_input)\n",
        "\n",
        "print(\"Prediction of the trained network : {prediction}\".format(prediction=prediction))"
      ]
    },
    {
      "cell_type": "markdown",
      "metadata": {
        "id": "vQuM3FB_yjPM"
      },
      "source": [
        "**Calculating the number of true prediction and wrong prediction**"
      ]
    },
    {
      "cell_type": "code",
      "execution_count": null,
      "metadata": {
        "id": "3ahYIvEYyjPN"
      },
      "outputs": [],
      "source": [
        "# Calculating the number of true prediction and wrong prediction\n",
        "num_wrong = numpy.where(prediction != data_output)[0]\n",
        "num_correct = data_output.size - num_wrong.size\n",
        "accuracy = 100 * (num_correct/data_output.size)\n",
        "\n",
        "print(\"Number of correct classifications : {num_correct}.\".format(num_correct=num_correct))\n",
        "print(\"Number of wrong classifications : {num_wrong}.\".format(num_wrong=num_wrong.size))\n",
        "print(\"Classification accuracy : {accuracy}.\".format(accuracy=accuracy))"
      ]
    },
    {
      "cell_type": "markdown",
      "metadata": {
        "id": "A6-cuQllyjPO"
      },
      "source": [
        "# **Model Testing and Evaluation on Hybrid Algorithm.**\n",
        "\n",
        "Used unseen dataset to test the hybrid model performance. Then evaluate the performance using the following metrics: -\n",
        "\n",
        "1. Precision\n",
        "2. Recall\n",
        "3. F1-score\n",
        "4. Classification Report\n",
        "5. Confusion Matrix\n",
        "6. AUC (area under curve)"
      ]
    },
    {
      "cell_type": "code",
      "execution_count": null,
      "metadata": {
        "id": "U2h6jb2Stx08"
      },
      "outputs": [],
      "source": [
        "# Compute the precision.\n",
        "\n",
        "# The precision is the ratio \"tp / (tp + fp)\" where \"tp\" is the number of\n",
        "# true positives and \"fp\" the number of false positives.\n",
        "\n",
        "print(\"Precision score: {:.2f}\".format(precision_score(data_output, prediction)))"
      ]
    },
    {
      "cell_type": "code",
      "execution_count": null,
      "metadata": {
        "id": "mZHlaf3Guhci"
      },
      "outputs": [],
      "source": [
        "# Compute the recall.\n",
        "\n",
        "# The recall is the ratio \"tp / (tp + fn)\" where \"tp\" is the number of\n",
        "# true positives and \"fn\" the number of false negatives.\n",
        "\n",
        "print(\"Recall score: {:.2f}\".format(recall_score(data_output, prediction)))"
      ]
    },
    {
      "cell_type": "code",
      "execution_count": null,
      "metadata": {
        "id": "QxtaGX10tv58"
      },
      "outputs": [],
      "source": [
        "# Compute the F1 score, also known as balanced F-score or F-measure\n",
        "# The F1 score can be interpreted as a harmonic mean of the precision and\n",
        "# recall, where an F1 score reaches its best value at 1 and worst score at 0.\n",
        "\n",
        "print(\"F1-score: {:.2f}\".format(f1_score(data_output, prediction)))"
      ]
    },
    {
      "cell_type": "code",
      "execution_count": null,
      "metadata": {
        "id": "2GV6KSlayjPR"
      },
      "outputs": [],
      "source": [
        "# Accuracy classification score.\n",
        "print(\"Accuracy Score: {:.2f}\".format(accuracy_score(data_output, prediction)))"
      ]
    },
    {
      "cell_type": "code",
      "execution_count": null,
      "metadata": {
        "id": "L5Dc4G6WtySM"
      },
      "outputs": [],
      "source": [
        "# Build a text report showing the main classification metrics.\n",
        "print(classification_report(data_output, prediction))"
      ]
    },
    {
      "cell_type": "code",
      "execution_count": null,
      "metadata": {
        "id": "q__usB5xtwXN"
      },
      "outputs": [],
      "source": [
        "# Compute confusion matrix to evaluate the accuracy of a classification.\n",
        "con_matrix = pd.DataFrame(confusion_matrix(data_output, prediction),\n",
        "                          index=[\"Actual: Yes\", \"Actual: No\"],\n",
        "                          columns=(\"Predicted: Yes\", \"Predicted: No\"))\n",
        "print(con_matrix)"
      ]
    },
    {
      "cell_type": "code",
      "execution_count": null,
      "metadata": {
        "id": "NIU9sQwoyTHl"
      },
      "outputs": [],
      "source": [
        "# Compute Area Under the Receiver Operating Characteristic Curve (ROC AUC) score for test data.\n",
        "print('ROC AUC score: {:.2f}'.format(roc_auc_score(data_output, prediction)))"
      ]
    },
    {
      "cell_type": "markdown",
      "metadata": {
        "id": "RNReycpKyjPZ"
      },
      "source": [
        "**Plotting Area Under Curve (AUC) for GA and NN**"
      ]
    },
    {
      "cell_type": "code",
      "execution_count": null,
      "metadata": {
        "id": "dliahOifyjPa"
      },
      "outputs": [],
      "source": [
        "fpr, tpr, _ = roc_curve(data_output,  prediction)\n",
        "auc = roc_auc_score(data_output, prediction)\n",
        "plt.plot(fpr,tpr,label=\"AUC: {:0.3}\".format(auc))\n",
        "plt.title('Combine AUC for GA and Neural Networks.')\n",
        "plt.xlabel('False Positive Rate')\n",
        "plt.ylabel('True Positive rate')\n",
        "plt.legend()\n",
        "plt.show()"
      ]
    }
  ],
  "metadata": {
    "colab": {
      "provenance": [],
      "include_colab_link": true
    },
    "kaggle": {
      "accelerator": "none",
      "dataSources": [
        {
          "datasetId": 2793101,
          "sourceId": 4821730,
          "sourceType": "datasetVersion"
        }
      ],
      "dockerImageVersionId": 30407,
      "isGpuEnabled": false,
      "isInternetEnabled": true,
      "language": "python",
      "sourceType": "notebook"
    },
    "kernelspec": {
      "display_name": "Python 3",
      "language": "python",
      "name": "python3"
    },
    "language_info": {
      "codemirror_mode": {
        "name": "ipython",
        "version": 3
      },
      "file_extension": ".py",
      "mimetype": "text/x-python",
      "name": "python",
      "nbconvert_exporter": "python",
      "pygments_lexer": "ipython3",
      "version": "3.6.4"
    }
  },
  "nbformat": 4,
  "nbformat_minor": 0
}